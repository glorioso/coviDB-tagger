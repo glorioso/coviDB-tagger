{
 "cells": [
  {
   "cell_type": "code",
   "execution_count": 9,
   "id": "particular-destruction",
   "metadata": {
    "scrolled": true
   },
   "outputs": [
    {
     "name": "stdout",
     "output_type": "stream",
     "text": [
      "Requirement already satisfied: en_core_web_sm==2.3.1 from https://github.com/explosion/spacy-models/releases/download/en_core_web_sm-2.3.1/en_core_web_sm-2.3.1.tar.gz#egg=en_core_web_sm==2.3.1 in /opt/conda/lib/python3.8/site-packages (2.3.1)\n",
      "Requirement already satisfied: spacy<2.4.0,>=2.3.0 in /opt/conda/lib/python3.8/site-packages (from en_core_web_sm==2.3.1) (2.3.5)\n",
      "Requirement already satisfied: catalogue<1.1.0,>=0.0.7 in /opt/conda/lib/python3.8/site-packages (from spacy<2.4.0,>=2.3.0->en_core_web_sm==2.3.1) (1.0.0)\n",
      "Requirement already satisfied: wasabi<1.1.0,>=0.4.0 in /opt/conda/lib/python3.8/site-packages (from spacy<2.4.0,>=2.3.0->en_core_web_sm==2.3.1) (0.8.2)\n",
      "Requirement already satisfied: preshed<3.1.0,>=3.0.2 in /opt/conda/lib/python3.8/site-packages (from spacy<2.4.0,>=2.3.0->en_core_web_sm==2.3.1) (3.0.2)\n",
      "Requirement already satisfied: requests<3.0.0,>=2.13.0 in /opt/conda/lib/python3.8/site-packages (from spacy<2.4.0,>=2.3.0->en_core_web_sm==2.3.1) (2.23.0)\n",
      "Requirement already satisfied: srsly<1.1.0,>=1.0.2 in /opt/conda/lib/python3.8/site-packages (from spacy<2.4.0,>=2.3.0->en_core_web_sm==2.3.1) (1.0.5)\n",
      "Requirement already satisfied: numpy>=1.15.0 in /opt/conda/lib/python3.8/site-packages (from spacy<2.4.0,>=2.3.0->en_core_web_sm==2.3.1) (1.18.5)\n",
      "Requirement already satisfied: setuptools in /opt/conda/lib/python3.8/site-packages (from spacy<2.4.0,>=2.3.0->en_core_web_sm==2.3.1) (50.3.1.post20201107)\n",
      "Requirement already satisfied: thinc<7.5.0,>=7.4.1 in /opt/conda/lib/python3.8/site-packages (from spacy<2.4.0,>=2.3.0->en_core_web_sm==2.3.1) (7.4.5)\n",
      "Requirement already satisfied: blis<0.8.0,>=0.4.0 in /opt/conda/lib/python3.8/site-packages (from spacy<2.4.0,>=2.3.0->en_core_web_sm==2.3.1) (0.4.1)\n",
      "Requirement already satisfied: tqdm<5.0.0,>=4.38.0 in /opt/conda/lib/python3.8/site-packages (from spacy<2.4.0,>=2.3.0->en_core_web_sm==2.3.1) (4.46.1)\n",
      "Requirement already satisfied: cymem<2.1.0,>=2.0.2 in /opt/conda/lib/python3.8/site-packages (from spacy<2.4.0,>=2.3.0->en_core_web_sm==2.3.1) (2.0.5)\n",
      "Requirement already satisfied: murmurhash<1.1.0,>=0.28.0 in /opt/conda/lib/python3.8/site-packages (from spacy<2.4.0,>=2.3.0->en_core_web_sm==2.3.1) (1.0.5)\n",
      "Requirement already satisfied: plac<1.2.0,>=0.9.6 in /opt/conda/lib/python3.8/site-packages (from spacy<2.4.0,>=2.3.0->en_core_web_sm==2.3.1) (1.1.0)\n",
      "Requirement already satisfied: idna<3,>=2.5 in /opt/conda/lib/python3.8/site-packages (from requests<3.0.0,>=2.13.0->spacy<2.4.0,>=2.3.0->en_core_web_sm==2.3.1) (2.9)\n",
      "Requirement already satisfied: chardet<4,>=3.0.2 in /opt/conda/lib/python3.8/site-packages (from requests<3.0.0,>=2.13.0->spacy<2.4.0,>=2.3.0->en_core_web_sm==2.3.1) (3.0.4)\n",
      "Requirement already satisfied: urllib3!=1.25.0,!=1.25.1,<1.26,>=1.21.1 in /opt/conda/lib/python3.8/site-packages (from requests<3.0.0,>=2.13.0->spacy<2.4.0,>=2.3.0->en_core_web_sm==2.3.1) (1.25.9)\n",
      "Requirement already satisfied: certifi>=2017.4.17 in /opt/conda/lib/python3.8/site-packages (from requests<3.0.0,>=2.13.0->spacy<2.4.0,>=2.3.0->en_core_web_sm==2.3.1) (2020.12.5)\n",
      "\u001b[38;5;2m✔ Download and installation successful\u001b[0m\n",
      "You can now load the model via spacy.load('en_core_web_sm')\n",
      "\u001b[38;5;2m✔ Linking successful\u001b[0m\n",
      "/opt/conda/lib/python3.8/site-packages/en_core_web_sm -->\n",
      "/opt/conda/lib/python3.8/site-packages/spacy/data/en\n",
      "You can now load the model via spacy.load('en')\n"
     ]
    }
   ],
   "source": [
    "!python -m spacy download en"
   ]
  },
  {
   "cell_type": "code",
   "execution_count": null,
   "id": "italic-invite",
   "metadata": {},
   "outputs": [],
   "source": [
    "#https://towardsdatascience.com/k-means-clustering-chardonnay-reviews-using-scikit-learn-nltk-9df3c59527f3\n",
    " #   https://www.kaggle.com/venugopalvasarla/text-clustering-and-classification-with-nltk"
   ]
  },
  {
   "cell_type": "code",
   "execution_count": 10,
   "id": "impossible-characterization",
   "metadata": {},
   "outputs": [],
   "source": [
    "import spacy\n",
    "spacy.load('en')\n",
    "from spacy.lang.en import English\n",
    "parser = English()\n",
    "def tokenize(text):\n",
    "    lda_tokens = []\n",
    "    tokens = parser(text)\n",
    "    for token in tokens:\n",
    "        if token.orth_.isspace():\n",
    "            continue\n",
    "        elif token.like_url:\n",
    "            lda_tokens.append('URL')\n",
    "        elif token.orth_.startswith('@'):\n",
    "            lda_tokens.append('SCREEN_NAME')\n",
    "        else:\n",
    "            lda_tokens.append(token.lower_)\n",
    "    return lda_tokens"
   ]
  },
  {
   "cell_type": "code",
   "execution_count": 11,
   "id": "fuzzy-culture",
   "metadata": {},
   "outputs": [
    {
     "name": "stderr",
     "output_type": "stream",
     "text": [
      "[nltk_data] Downloading package wordnet to /root/nltk_data...\n",
      "[nltk_data]   Unzipping corpora/wordnet.zip.\n"
     ]
    }
   ],
   "source": [
    "import nltk\n",
    "nltk.download('wordnet')\n",
    "from nltk.corpus import wordnet as wn\n",
    "def get_lemma(word):\n",
    "    lemma = wn.morphy(word)\n",
    "    if lemma is None:\n",
    "        return word\n",
    "    else:\n",
    "        return lemma\n",
    "    \n",
    "from nltk.stem.wordnet import WordNetLemmatizer\n",
    "def get_lemma2(word):\n",
    "    return WordNetLemmatizer().lemmatize(word)"
   ]
  },
  {
   "cell_type": "code",
   "execution_count": 12,
   "id": "perceived-astronomy",
   "metadata": {},
   "outputs": [
    {
     "name": "stderr",
     "output_type": "stream",
     "text": [
      "[nltk_data] Downloading package stopwords to /root/nltk_data...\n",
      "[nltk_data]   Unzipping corpora/stopwords.zip.\n"
     ]
    }
   ],
   "source": [
    "nltk.download('stopwords')\n",
    "en_stop = set(nltk.corpus.stopwords.words('english'))"
   ]
  },
  {
   "cell_type": "code",
   "execution_count": 13,
   "id": "worst-debut",
   "metadata": {},
   "outputs": [],
   "source": [
    "def prepare_text_for_lda(text):\n",
    "    tokens = tokenize(text)\n",
    "    tokens = [token for token in tokens if len(token) > 4]\n",
    "    tokens = [token for token in tokens if token not in en_stop]\n",
    "    tokens = [get_lemma(token) for token in tokens]\n",
    "    return tokens\n"
   ]
  },
  {
   "cell_type": "code",
   "execution_count": 18,
   "id": "focused-works",
   "metadata": {
    "scrolled": true
   },
   "outputs": [],
   "source": [
    "import pandas as pd\n",
    "\n",
    "articles = pd.read_csv(\"articles_text.csv\")"
   ]
  },
  {
   "cell_type": "code",
   "execution_count": 56,
   "id": "elegant-relay",
   "metadata": {
    "scrolled": true
   },
   "outputs": [
    {
     "name": "stdout",
     "output_type": "stream",
     "text": [
      "['perez', 'basham', 'fisher', 'hobson', 'butler', 'white', 'anderson', 'racial', 'ethnic', 'disparity', 'covid-19', 'disease', 'burden', 'mortality', 'among', 'emergency', 'department', 'patient', 'safety', 'health', 'system', 'blumenthal', 'fowler', 'abrams', 'collins', 'covid-19-implications', 'health', 'system', 'black', 'emergency', 'physician', 'front', 'covid-19', 'ravage', 'community', 'disproportionately', 'killing', 'african', 'american', 'latino', 'minority', 'group', 'cheer', 'arrival', 'vaccine', 'along', 'front', 'provider', 'line', 'early', 'appointment', 'fill', 'pandemic', 'could', 'ndugga', 'artiga', 'parker', 'latest', 'covid-19', 'vaccination', 'ethnicity', 'walker', 'singhvi', 'holder', 'gebeloff', 'avila', 'pandemic', 'racial', 'disparity', 'persist', 'vaccine', 'rollout', 'times', 'warren', 'forrow', 'hodge', 'truog', 'trustworthiness', 'trust', 'covid-19', 'vaccine', 'trial', 'black', 'community', 'unfortunately', 'elation', 'short', 'live', 'early', 'sign', 'current', 'vaccine', 'rollout', 'black', 'american', 'nationwide', 'receive', 'covid', 'vaccination', 'rates', 'white', 'american', 'amongst', 'fighting', 'virus', 'every', 'black', 'colleague', 'vaccinate', 'black', 'healthcare', 'provider', 'recognize', 'unique', 'provide', 'health', 'patient', 'health', 'community', 'provide', 'brief', 'historical', 'primer', 'specific', 'action', 'prevent', 'worsening', 'health', 'disparity', 'washington', 'medical', 'apartheid', 'historical', 'legacy', 'exploitation', 'persecution', 'hands', 'healthcare', 'system', 'affect', 'generation', 'black', 'community', 'slavery', 'physician', 'slave', 'involuntary', 'medical', 'experimentation', 'developing', 'cure', 'profit', 'medical', 'exploitation', 'perpetuate', 'modern', 'evident', 'tuskegee', 'syphilis', 'project', 'biomedical', 'capitalization', 'henrietta', 'lack', 'force', 'sterilization', 'initiative', 'williams', 'neighbor', 'jackson', 'racial', 'ethnic', 'discrimination', 'health', 'findings', 'community', 'study', 'corbie', 'smith', 'thomas', 'george', 'd.m.m.s.', 'distrust', 'research', 'l.i.z', 'hamel', 'covid-19', 'vaccine', 'monitor', 'covid-19', 'vaccine', 'monitor', 'access', 'decade', 'torment', 'generalize', 'mistrust', 'healthcare', 'system', 'among', 'black', 'community', 'discrimination', 'experience', 'around', 'racism', 'experimentation', 'elements', 'contribute', 'mistrust', 'ultimately', 'negatively', 'impact', 'acceptance', 'willingness', 'healthcare', 'notion', 'become', 'apparent', 'come', 'topic', 'vaccination', 'december', 'survey', 'conduct', 'kaiser', 'family', 'foundation', 'show', 'quarter', 'public', 'remains', 'vaccine', 'hesitant', 'saying', 'probably', 'definitely', 'would', 'covid-19', 'vaccine', 'available', 'deem', 'scientist', 'importantly', 'black', 'adult', 'definitely', 'probably', 'would', 'vaccinate', 'cite', 'major', 'reason', 'contracting', 'covid-19', 'vaccine', 'mistrust', 'vaccine', 'general', 'among', 'black', 'adult', 'confident', 'development', 'covid-19', 'vaccine', 'taking', 'need', 'black', 'people', 'account', 'covid', 'vaccination', 'present', 'opportunity', 'healthcare', 'system', 'historically', 'plague', 'injustice', 'discrimination', 'begin', 'amends', 'offer', 'concrete', 'strategy', 'healthcare', 'governmental', 'institution', 'employ', 'address', 'covid-19', 'vaccine', 'hesitancy', 'african', 'american', 'community', 'first', 'acknowledge', 'present', 'injustice', 'root', 'structurally', 'racist', 'policy', 'delivery', 'system', 'institution', 'mandate', 'iterative', 'cultural', 'competency', 'training', 'clinician', 'trainee', 'emphasize', 'social', 'determinant', 'contribute', 'health', 'inequity', 'across', 'community', 'color', 'community', 'historically', 'subject', 'experimentation', 'exclusion', 'transparency', 'describe', 'vaccination', 'risk', 'benefit', 'accountability', 'vaccine', 'delivery', 'critical', 'engage', 'topic', 'covid-19', 'vaccination', 'second', 'develop', 'messaging', 'acknowledge', 'concern', 'provide', 'pertinent', 'information', 'education', 'community', 'heighten', 'apprehension', 'effects', 'safety', 'root', 'historical', 'abuse', 'messaging', 'explicitly', 'address', 'aspect', 'culturally', 'sensitive', 'allay', 'fear', 'third', 'partner', 'trust', 'source', 'faith', 'base', 'organization', 'political', 'advocacy', 'group', 'grass', 'roots', 'organization', 'engage', 'black', 'community', 'risk', 'benefit', 'covid19', 'vaccine', 'personalize', 'culturally', 'sensitive', 'community', 'leaders', 'acknowledge', 'people', 'genuine', 'fear', 'black', 'experience', 'healthcare', 'america', 'recognize', 'potential', 'trust', 'black', 'voice', 'community', 'leverage', 'community', 'anchor', 'foster', 'dialogue', 'build', 'trust', 'finally', 'redouble', 'effort', 'overcome', 'barrier', 'access', 'particularly', 'disenfranchise', 'primary', 'health', 'education', 'preventive', 'health', 'already', 'accessible', 'black', 'patient', 'expect', 'without', 'significant', 'action', 'covid', 'vaccine', 'magically', 'become', 'effort', 'target', 'reach', 'community', 'prefer', 'vaccinate', 'vaccine', 'distribute', 'church', 'barbershop', 'community', 'center', 'trauma', 'century', 'experimentation', 'neglect', 'disenfranchisement', 'overcome', 'overnight', 'action', 'take', 'alleviate', 'pandemic', 'devastate', 'community', 'color', 'given', 'genuine', 'communication', 'relevant', 'messaging', 'thoughtful', 'partnership', 'relentless', 'focus', 'remove', 'barrier', 'build', 'transparent', 'equitable', 'mechanism', 'address', 'vaccine', 'hesitancy', 'community', 'declaration', 'compete', 'interest', 'author', 'nothing', 'disclose']\n",
      "['website', 'cookie', 'enhance', 'experience', 'continue', 'click', 'continue', 'agree', 'cookie', 'policy']\n",
      "['small', 'gathering', 'informal', 'nature', 'occur', 'family', 'friend', 'regularly', 'socialize', 'often', 'someone', 'residence', 'typically', 'involve', 'distance', 'travel', 'small', 'gathering', 'guidance', 'might', 'appropriate', 'social', 'gathering', 'intimate', 'close', 'friend', 'family', 'small', 'holiday', 'party', 'family', 'dinner', 'small', 'special', 'celebration', 'safe', 'celebrate', 'graduation', 'school', 'event', 'attending', 'gathering', 'celebrate', 'graduation', 'school', 'event', 'increase', 'getting', 'spreading', 'covid-19', 'safe', 'celebrate', 'virtually', 'people', 'outside', 'taking', 'prevention', 'measure', 'decorate', 'school', 'photo', 'graduation', 'message', 'video', 'party', 'family', 'friend', 'share', 'celebration', 'dress', 'small', 'outdoor', 'celebration', 'everyone', 'least', 'apart', 'wearing', 'mask', 'organize', 'safely', 'distance', 'drive', 'drive', 'celebration', 'graduate', 'create', 'celebration', 'video', 'share', 'family', 'friend', 'graduation', 'sign', 'community', 'fully', 'vaccinate', 'gather', 'private', 'setting', 'without', 'fully', 'vaccinate', 'people', 'visit', 'inside', 'private', 'setting', 'without', 'household', 'unvaccinated', 'people', 'severe', 'illness', 'travel', 'small', 'gathering', 'travel', 'increase', 'chance', 'spreading', 'getting', 'covid-19', 'recommend', 'delay', 'travel', 'fully', 'vaccinate', 'travel', 'still', 'steps', 'protect', 'others', 'still', 'require', 'public', 'transportation', 'consider', 'traveling', 'large', 'gathering', 'visit', 'travel', 'decide', 'family']\n",
      "['ahora', 'existen', 'vacunas', 'autorizadas', 'recomendadas', 'contra', 'covid-19', 'estados', 'unidos', 'fundamental', 'contar', 'información', 'precisa', 'sobre', 'vacunas', 'puede', 'ayudar', 'detener', 'mitos', 'rumor', 'comunes', 'respecto', 'información', 'sobre', 'vacunas', 'contra', 'covid-19', 'precisa', 'saber', 'fuentes', 'información', 'confiables', 'puede', 'resultar', 'difícil', 'ante', 'evaluar', 'información', 'sobre', 'vacunas', 'internet', 'verifique', 'información', 'provenga', 'fuente', 'confiable', 'actualice', 'forma', 'regular', 'aprenda', 'sobre', 'encontrar', 'información', 'confiable', 'sobre', 'vacunas']\n",
      "['检测对于帮助减少covid-19传播至关重要。如果您出现与covid-19相关的症状，您应检疫隔离并接受检测。如果您未接种疫苗并认为您接触了covid-19感染者，您应接受检测。全剂量接种者应遵守cdc关于检测的建议', '如果您需要进行covid-19检测而无法获得医疗服务提供者检测，您可以考虑采用可在家或任何其他地方进行的', '自我采集试剂盒或自我检测。有时自我检测也称为“居家检测”或“在家检测', '这些自我采集试剂盒和检测可通过处方或非处方从药房或零售店购买。当前可获得的自我采集试剂盒和检测用于检测', '使用检测前，请完整阅读制造商说明。如果您对于检测或结果存有疑问，请与您的医疗服务提供者沟通', '一些检测需要使用', '前鼻拭子或中鼻甲拭子', '其他检测要求唾液样本', '准备采集样本', '打开包装盒，按照样本采集或检测试剂盒中包含的制造商说明采集自己的鼻腔或唾液样本', '如果您没有根据指示采集样本，您的检测结果可能不正确', '采集之后，根据制造商指示将样本送至检测设施或使用样本，以完成居家检测', '请严格按照制造商的说明，并按照所列的顺序执行。制造商还可能提供其他资源，如快速参考指南或教学视频，以帮助正确执行检测', '使用前，根据制造商说明存储所有检测部件', '检查到期日期。请勿使用过期检测或者损坏或变色的检测组件', '对您检测位置的台面、桌子或其他表面进行消毒', '在准备开始检测过程之前，不要打开检测设备或其他检测组件', '在制造商说明中明确的时间内阅读并记录检测结果。规定时间范围之前或之后读取的结果可能不正确', '请勿重复使用检测设备或其他组件', '得到结果后，将样本采集拭子和试剂盒丢入垃圾桶，对样本可能接触的所有表面进行消毒，然后洗手', '将您的结果提供给您的医疗服务提供者或者您的地方或州卫生部门（如果您没有医疗服务提供者）。有些自我检测配备应用程序自动将您的检测结果报告给相应的公共卫生当局']\n",
      "['nhiễm', 'covid-19', 'người', 'nhiễm', 'covid-19', 'covid-19', 'truyền', 'covid-19', 'những', 'người', 'khuyến', 'người', 'chủng', 'covid-19', 'chống', 'covid-19', 'chủng', 'trọng', 'những', 'người', 'chủng', 'trước', 'những', 'chủng', 'covid-19', 'pfizer', 'biontech']\n",
      "['업데이트됩니다']\n",
      "['footnote', 'electronic', 'reporting', 'automate', 'exchange', 'report', 'information', 'electronic', 'health', 'record', 'public', 'health', 'agency', 'partnership', 'association', 'public', 'health', 'laboratory', 'council', 'state', 'territorial', 'epidemiologist', 'rapidly', 'onboarding', 'healthcare', 'facility', 'covid-19', 'pandemic', '8,800', 'facility', 'sending', 'covid-19', 'electronic', 'initial', 'report', 'public', 'health', 'using', 'footnote', 'production', 'healthcare', 'facility', 'actively', 'sending', 'electronic', 'report', 'public', 'health', 'agency']\n",
      "['sorry', 'experience', 'unusual', 'traffic', 'please', 'confirm', 'robot', 'content', 'could', 'validate', 'captcha', 'please']\n",
      "['study', 'design', 'multicenter', 'retrospective', 'prospective', 'observational', 'interventional', 'study', 'source', 'retrospective', 'development', 'cohort', 'collect', 'anonymized', 'clinical', 'laboratory', 'record', 'admission', 'discharge', 'summary', 'patient', 'standardize', 'template', 'annexure', 'apollo', 'hospital', 'india', 'period', 'april', 'hospital', 'bangalore', 'chennai', 'delhi', 'hyderabad', 'kolkata', 'mumbai', 'prospective', 'validation', 'elements', 'admission', 'provide', 'investigator', 'electronic', 'template', 'additional', 'collect', 'discharge', 'summary', 'standardize', 'template', 'describe', 'discharge', 'summary', 'appropriately', 'code', 'icd-10', 'diagnosis', 'validation', 'cohort', 'collect', 'hospital', 'period', 'august', 'october', 'participant', 'participant', 'admit', 'hospital', 'symptom', 'history', 'suggestive11,12', 'coronavirus', 'disease', 'covid', 'subsequent', 'laboratory', 'confirmation', 'reverse', 'transcription', 'polymerase', 'chain', 'reaction', 'test', 'collect', 'admission', 'emergency', 'following', 'admission', 'within', 'eligibility', 'criterion', 'inclusion', 'patient', 'included—(a', 'patient', 'present', 'covid-19', 'relate', 'symptom', 'without', 'history', 'contact', 'travel', 'geographical', 'spots', 'community', 'subject', 'comply', 'category', 'apollo', 'hospital', 'covid', 'protocol', 'annexure', 'exclusion', 'criterion', 'patient', 'admit', 'disease', 'conditions', 'subsequently', 'found', 'covid', 'hospital', 'study', 'include', 'specific', 'intervention', 'treatment', 'provide', 'patient', 'admission', 'within', 'institutional', 'ethics', 'committee', 'apollo', 'hospital', 'specify', 'approve', 'research', 'confirm', 'research', 'perform', 'accordance', 'relevant', 'guideline', 'regulation', 'inform', 'consent', 'obtain', 'participant', 'and/or', 'legal', 'guardian', 'research', 'involve', 'human', 'research', 'participant', 'perform', 'accordance', 'declaration', 'helsinki', 'outcome', 'study', 'primary', 'outcome', 'develop', 'comparable', 'model', 'improve', 'accuracy', 'parameter', 'would', 'yield', 'predictor', 'mortality', 'admission', 'predictor', 'clinical', 'laboratory', 'variable', 'study', 'hazard', 'ratio', 'predictor', 'clinical', 'variable', 'include', 'patient', 'basic', 'information', 'include', 'gender', 'exposure', 'travel', 'history', 'number', 'symptom', 'admission', 'include', 'different', 'symptom', 'fever', 'cough', 'respiratory', 'distress', 'shortness', 'breath', 'history', 'associate', 'chronic', 'disease', 'diabetes', 'hypertension', 'heart', 'kidney', 'disease', 'cancer', 'capture', 'vitals', 'admission', 'temperature', 'oxygen', 'saturation', 'respiration', 'pulse', 'note', 'laboratory', 'parameter', 'categorize', 'complete', 'hemogram', 'include', 'distribution', 'width', 'basic', 'biochemistry', 'include', 'kidney', 'liver', 'profile', 'test', 'coagulation', 'profile', 'include', 'prothrombin', 'international', 'randomize', 'ratio', 'activate', 'prothomboplastin', 'dimer', 'inflammatory', 'marker', 'reactive', 'protein', 'lactic', 'dehydrogenase', 'ferritin', 'interleukin-6', 'procalcitonin', 'evaluate', 'predictor', 'select', 'predictor', 'base', 'ratio', 'value', 'table', 'clinical', 'relevance', 'dimer', 'interleukin', 'select', 'study', 'smaller', 'sample', 'validation', 'difference', 'development', 'setting', 'eligibility', 'criterion', 'outcome', 'predictor', 'table', 'clinical', 'variable', 'prediction', 'mortality', 'admission', 'covid-19', 'table', 'sample', 'study', 'include', 'total', 'population', 'patient', 'include', 'development', 'cohort', 'validation', 'cohort', 'sample', 'determine', 'using', 'estimate', 'million', 'covid', 'case', 'india', 'october', 'confidence', 'level', 'confidence', 'interval', 'miss', 'initial', 'development', 'cohort', 'forty', 'patient', 'drop', 'owe', 'miss', 'fields', 'imputation', 'development', 'validation', 'cohort', 'describe', 'earlier', 'certain', 'laboratory', 'predictor', 'select', 'smaller', 'sample', 'miss', 'values', 'statistical', 'analysis', 'modelling', 'approach', 'clinical', 'laboratory', 'parameter', 'select', 'base', 'ratio', 'initial', 'cohort', 'parameter', 'subsequently', 'propensity', 'match', 'binary', 'classification', 'event', 'death—1', 'event', 'survival—0', 'population', 'randomly', 'divide', 'training', 'development', 'model', 'parameter', 'three', 'model', 'maximize', 'cross', 'validation', 'curve', 'using', 'python', 'determine', 'performance', 'logistic', 'regression', 'random', 'forest', 'model', 'extreme', 'gradient', 'boost', 'algorithm', 'however', 'consider', 'extreme', 'gradient', 'boost', 'model', 'function', 'model', 'approximation', 'distribution', 'consider', 'error', '\\\\mathrm{y}}_{\\\\mathrm{i}}={\\\\mathrm{f}}_{1}\\\\left({\\\\mathrm{x}}_{\\\\mathrm{i}}\\\\right)+{\\\\mathrm{error}}_{1\\\\mathrm{i}}$$', '\\\\({\\\\mathrm{y}}_{\\\\mathrm{i}}\\\\', 'predict', 'value', '\\\\({\\\\mathrm{x}}_{\\\\mathrm{i}}\\\\', 'input', 'values', '\\\\({\\\\mathrm{f}}_{1}({\\\\mathrm{x}}_{\\\\mathrm{i}})\\\\', 'function', 'relationship', '\\\\(\\\\mathrm{x}\\\\', '\\\\(\\\\mathrm{y}\\\\', 'fully', 'describe', 'initialize', 'model', 'solving', 'following', 'equation', 'input', 'parameter', '\\\\({\\\\mathrm{f}}_{0}(\\\\mathrm{x})=\\\\mathrm{argmin}\\\\,{\\\\sum', '\\\\mathrm{i}=1}^{\\\\mathrm{n}}\\\\mathrm{l}({\\\\mathrm{y}}_{\\\\mathrm{i}},\\\\mathrm{\\\\gamma', '\\\\mathrm{f}}_{0}\\\\left(\\\\mathrm{x}\\\\right)=\\\\frac{{\\\\sum', '\\\\mathrm{i}=1}^{\\\\mathrm{n}}{\\\\mathrm{y}}_{\\\\mathrm{i}}}{\\\\mathrm{n}}$$', '\\\\(\\\\mathrm{n}\\\\', 'total', 'number', 'observation', '\\\\({\\\\mathrm{f}}_{1}({\\\\mathrm{x}}_{\\\\mathrm{i}})\\\\', 'function', 'learner', 'relationship', 'fully', 'describe', 'iteration', 'gradient', 'respect', 'predict', 'value', '\\\\mathrm{r}}_{\\\\mathrm{im}}=\\\\,-\\\\left\\\\{\\\\,\\\\frac{\\\\partial', '\\\\mathrm{l}\\\\left[{\\\\mathrm{y}}_{\\\\mathrm{i}},{\\\\mathrm{f}}_{\\\\mathrm{m}-1}\\\\left({\\\\mathrm{x}}_{\\\\mathrm{i}}\\\\right)\\\\right]}{\\\\partial', '\\\\mathrm{f}}_{\\\\mathrm{m}-1}\\\\left({\\\\mathrm{x}}_{\\\\mathrm{i}}\\\\right)}\\\\right\\\\},$$', '\\\\(\\\\mathrm{i}\\\\', 'index', 'observation', '\\\\(\\\\mathrm{m}\\\\', 'represent', 'number', 'iteration', 'maximum', 'number', 'iteration', 'stand', 'function', 'learner', '\\\\({\\\\mathrm{h}}_{\\\\mathrm{m}}(\\\\mathrm{x})\\\\', 'residual', 'computing', '\\\\({\\\\mathrm{\\\\gamma', '\\\\mathrm{m}}\\\\', 'solve', 'optimization', 'problem', '\\\\mathrm{\\\\gamma', '\\\\mathrm{m}}=\\\\mathrm{arg}\\\\,\\\\mathrm{min}\\\\sum', '\\\\mathrm{i}=1}^{\\\\mathrm{n}}\\\\mathrm{l}[{\\\\mathrm{y}}_{\\\\mathrm{i}},{\\\\mathrm{f}}_{\\\\mathrm{m}-1}\\\\left({\\\\mathrm{x}}_{\\\\mathrm{i}}\\\\right)+.{\\\\mathrm{f}}_{\\\\mathrm{m}}({\\\\mathrm{x}}_{\\\\mathrm{i}})]$$', 'solving', 'equation', '\\\\mathrm{\\\\gamma', '\\\\mathrm{m}}=\\\\,\\\\frac{{\\\\sum', '\\\\mathrm{i}=1}^{\\\\mathrm{n}}{\\\\mathrm{h}}_{\\\\mathrm{m}}({\\\\mathrm{x}}_{\\\\mathrm{i}})\\\\cdot', '\\\\mathrm{y}}_{\\\\mathrm{i}}-{\\\\mathrm{f}}_{\\\\mathrm{m}-1}\\\\left({\\\\mathrm{x}}_{\\\\mathrm{i}}\\\\right)]}{{{\\\\sum', '\\\\mathrm{i}=1}^{\\\\mathrm{n}}{\\\\mathrm{h}}_{\\\\mathrm{m}}({\\\\mathrm{x}}_{\\\\mathrm{i}})}^{2}}$$', 'update', '\\\\({\\\\mathrm{f}}_{\\\\mathrm{m}}\\\\left(\\\\mathrm{x}\\\\right)=\\\\,{\\\\mathrm{f}}_{\\\\mathrm{m}-1}\\\\left(\\\\mathrm{x}\\\\right)+\\\\,{\\\\mathrm{\\\\gamma', '\\\\mathrm{m}}\\\\cdot', '\\\\mathrm{h}}_{\\\\mathrm{m}}(\\\\mathrm{x})\\\\', 'square', 'error', 'function', 'gradient', 'function', 'calculate', 'follow', '\\\\begin{aligned}{\\\\mathrm{r}}_{\\\\mathrm{im}}&=\\\\,-\\\\left\\\\{\\\\,\\\\frac{\\\\partial', '\\\\mathrm{l}\\\\left[{\\\\mathrm{y}}_{\\\\mathrm{i}},{\\\\mathrm{f}}_{\\\\mathrm{m}-1}\\\\left({\\\\mathrm{x}}_{\\\\mathrm{i}}\\\\right)\\\\right]}{\\\\partial', '\\\\mathrm{f}}_{\\\\mathrm{m}-1}\\\\left({\\\\mathrm{x}}_{\\\\mathrm{i}}\\\\right)}\\\\right\\\\},\\\\\\\\', '\\\\,-\\\\,\\\\frac{\\\\partial', '\\\\{\\\\frac{1}{2}\\\\times', '\\\\mathrm{f}}_{\\\\mathrm{m}-1}\\\\left({\\\\mathrm{x}}_{\\\\mathrm{i}}\\\\right)-{\\\\mathrm{y}}_{\\\\mathrm{i}}{]}^{2}\\\\}}{\\\\partial', '\\\\mathrm{f}}_{\\\\mathrm{m}-1}({\\\\mathrm{x}}_{\\\\mathrm{i})}}\\\\\\\\', '-\\\\frac{\\\\partial', '\\\\left\\\\{\\\\frac{1}{2}\\\\times', '\\\\left[{\\\\mathrm{f}}_{\\\\mathrm{m}-1}{\\\\left({\\\\mathrm{x}}_{\\\\mathrm{i}}\\\\right)}^{2}+{\\\\mathrm{y}}_{\\\\mathrm{i}}^{2}-2\\\\times', '\\\\mathrm{f}}_{\\\\mathrm{m}-1}\\\\left({\\\\mathrm{x}}_{\\\\mathrm{i}}\\\\right)\\\\cdot', '\\\\mathrm{y}}_{\\\\mathrm{i}}\\\\right]\\\\right\\\\}}{\\\\partial', '\\\\mathrm{f}}_{\\\\mathrm{m}-1}\\\\left({\\\\mathrm{x}}_{\\\\mathrm{i}}\\\\right)}\\\\\\\\', '\\\\mathrm{y}}_{\\\\mathrm{i}}-{\\\\mathrm{f}}_{\\\\mathrm{m}-1}\\\\left({\\\\mathrm{x}}_{\\\\mathrm{i}}\\\\right)\\\\,\\\\mathrm{for}\\\\,\\\\mathrm{i}=\\\\mathrm{1,2},\\\\dots', '\\\\mathrm{n}.\\\\end{aligned}$$', 'python', 'language', 'program', 'python', 'package', 'namely', 'sklearn', 'numpy', 'panda', 'library', 'snippet', 'model', 'classifier', 'estimator', 'learning', 'depth', 'random', 'state', 'details', 'obtain', 'multiple', 'trial', 'error', 'method', 'hyperparameters', 'derive', 'variable', 'similarly', 'random', 'forest', 'model', 'n_estimators', 'select', 'depth', 'training', 'model', 'successful', 'testing', 'model', 'pickle', 'save', 'pickle', 'model', 'host', 'serve', 'request', 'front', 'values', 'input', 'model', 'predict', 'response', 'would', 'output', 'stratification', 'input', 'individual', 'algorithm', 'machine', 'return', 'value', 'percentage', 'mortality', 'threshold', 'associate', 'mortality', 'rates', 'moderate', 'category', '15–30', 'mortality', 'category', 'mortality', 'proportional', 'hazard', 'model', 'addition', 'return', 'probability', 'mortality', 'display', 'output', 'predictor', 'analysis', 'hazard', 'ratio', 'calculate', 'predictor', 'base', 'accept', 'clinical', 'laboratory', 'threshold', 'applicable', 'table', 'threshold', 'kaplan', 'curve', 'violin', 'plot', 'analyze', 'effect', 'individual', 'variable', 'overall', 'mortality', 'performance', 'evaluation', 'model', 'evaluate', 'base', 'ability', 'discriminate', 'outcome', 'development', 'cohort', 'model', 'validation', 'cohort', 'correspond', 'confidence', 'interval', 'accuracy', 'sensitivity', 'specificity', 'precision', 'predictive', 'value', 'likelihood', 'ratio', 'compute', 'validation', 'cohort', 'standard', 'threshold', 'threshold', 'derive', 'values', 'different', 'parameter', 'include', 'clinical', 'laboratory', 'range', 'patient', 'public', 'involvement', 'study', 'conduct', 'retrospective', 'april', 'hence', 'development', 'research', 'question', 'outcome', 'measure', 'directly', 'communicate', 'patient', 'development', 'cohort', 'however', 'validation', 'cohort', 'inform', 'study', 'design', 'outcome']\n",
      "['leaving', 'website', 'provide', 'moderna', 'website', 'privacy', 'policy', 'apply', 'encourage', 'privacy', 'policy', 'every', 'website', 'visit', 'content', 'display', 'external', 'website', 'control', 'moderna', 'moderna', 'assume', 'responsibility', 'information', 'statement', 'external', 'website', 'continue']\n",
      "['vincent', 'professor', 'klungel', 'professor', 'arnold', 'professor', 'catherine', 'panozzo', 'researcher', 'researcher', 'almut', 'winterstein', 'professor', '1center', 'pharmacoepidemiology', 'research', 'training', 'center', 'clinical', 'epidemiology', 'biostatistics', 'division', 'infectious', 'disease', 'perelman', 'school', 'medicine', 'university', 'pennsylvania', 'philadelphia', 'pennsylvania', '2division', 'pharmacoepidemiology', 'clinical', 'pharmacology', 'utrecht', 'institute', 'pharmaceutical', 'science', 'utrecht', 'university', 'utrecht', 'netherlands', '3college', 'medicine', 'national', 'taiwan', 'university', 'taipei', 'taiwan', '4department', 'population', 'medicine', 'harvard', 'pilgrim', 'health', 'institute', 'harvard', 'medical', 'school', 'boston', 'massachusetts', '5department', 'epidemiology', 'merck', 'point', 'pennsylvania', '6center', 'evaluation', 'safety', 'department', 'pharmaceutical', 'outcome', 'policy', 'college', 'pharmacy', 'department', 'epidemiology', 'college', 'medicine', 'health', 'health', 'profession', 'university', 'florida', 'gainesville', 'florida', 'correspondence', 'winterstein', 'agile', 'internationally', 'harmonise', 'surveillance', 'system', 'essential', 'maintain', 'safety', 'trust', 'vaccine', 'argue', 'vincent', 'colleague', 'first', 'vaccine', 'novel', 'pathogen', 'cov-2', 'deploy', 'month', 'covid-19', 'outbreak', 'declare', 'global', 'pandemic', 'several', 'type', 'covid-19', 'vaccine', 'develop', 'using', 'different', 'platform', 'adjuvant', 'include', 'messenger', 'base', 'vaccine', 'adenovirus', 'base', 'vector', 'vaccine', 'inactivate', 'vaccines.1', 'vaccine', 'study', 'phase', 'trial', 'investigation', 'preclinical', 'studies.2', 'given', 'global', 'impact', 'pandemic', 'vaccine', 'development', 'receive', 'unprecedented', 'public', 'political', 'attention', 'result', 'accelerate', 'regulatory', 'review', 'however', 'scepticism', 'rigour', 'evidence', 'supporting', 'comprehensive', 'benefit', 'assessment', 'concern', 'breakthrough', 'vaccine', 'development', 'accompany', 'similar', 'advance', 'system', 'monitor', 'adverse', 'event', 'communicate', 'safety', 'signal', 'among', 'regulator', 'public', 'health', 'official', 'healthcare', 'providers.345', 'limited', 'human', 'exposure', 'follow', 'within', 'pivotal', 'covid-19', 'vaccine', 'trial', 'optimise', 'allow', 'formal', 'conclusion', 'efficacy', 'permit', 'detection', 'adverse', 'event', 'occur', 'fewer', 'people', 'immunisation', 'particularly', 'within', 'subgroup', 'represent', 'exclude', 'trial', 'pregnant', 'woman', 'child', 'frail', 'elderly', 'immunocompromised', 'people).67', 'public', 'apprehension', 'safety', 'covid-19', 'vaccine', 'contribute', 'hesitancy', 'receive', 'vaccine.8', 'concern', 'heighten', 'february', 'case', 'unusual', 'blood', 'clotting', 'occur', 'immunisation', 'oxford', 'astrazeneca', 'vaccine', 'chadox1-s', 'report', 'regulatory', 'agency', 'timely', 'detection', 'serious', 'event', 'covid-19', 'vaccination', 'highlight', 'importance', 'robust', 'safety', 'surveillance', 'system', 'country', 'covid-19', 'vaccine', 'population', 'speed', 'safety', 'assessment', 'crucial']\n",
      "['young', 'healthy', 'people', 'deliberately', 'infect', 'covid-19', 'first', 'human', 'challenge', 'trial', 'begin', 'london', 'hospital', 'january', 'study', 'announce', 'today', 'recruit', 'healthy', 'volunteer', 'government', 'pledge', 'invest', 'million', 'million', 'trial', 'carry', 'partnership', 'hvivo', 'company', 'experience', 'human', 'viral', 'challenge', 'trial', 'place', 'royal', 'london', 'foundation', 'trust', 'ethical', 'regulatory', 'approval', 'volunteer', 'isolate', 'duration', 'study', 'monitor', 'afterwards', 'check', 'effects', 'trial', 'easy', 'closely', 'study', 'disease', 'speeding', 'development', 'vaccine', 'first', 'phase', 'trial', 'researcher', 'would', 'small', 'level', 'exposure', 'require', 'someone', 'catch', 'covid-19', 'could', 'vaccine', 'prevent', 'infection', 'could', 'explore', 'potential', 'treatment', 'study', 'immune', 'response', 'benefit', 'approach', 'researcher', 'study', 'vaccine', 'candidate', 'effective', 'deliberately', 'infect', 'volunteer', 'know', 'human', 'pathogen', 'never', 'undertake', 'lightly', 'peter', 'openshaw', 'investigator', 'study', 'imperial', 'college', 'london', 'statement', 'however', 'study', 'enormously', 'informative', 'disease', 'study', 'covid-19', 'really', 'vital', 'possible', 'towards', 'getting', 'effective', 'vaccine', 'treatment', 'covid-19', 'challenge', 'study', 'potential', 'accelerate', 'development', 'novel', 'drug', 'vaccine', 'controversial', 'obvious', 'risk', 'approach', 'volunteer', 'could', 'become', 'seriously', 'trial', 'treatment', 'vaccine', 'people', 'already', 'infect', 'covid-19', 'naturally', 'given', 'challenge', 'study', 'start', 'january', 'already', 'close', 'effective', 'vaccine']\n",
      "['covid-19', 'newsletter', 'global', 'health', 'colleague', 'covid-19', 'newsletter', 'come', 'heel', 'world', 'health', 'assembly', 'member', 'state', 'virtually', 'discus', 'health', 'economic', 'political', 'aspect', 'covid-19', 'assembly', 'conclude', 'share', 'global', 'commitment', 'covid-19', 'response', 'member', 'state', 'reaffirm', 'commitment', 'health', 'equity', 'pandemic', 'applaud', 'world', 'health', 'organization', 'leadership', 'others', 'strengthen', 'reinforce', 'covid-19', 'response', 'rather', 'resource', 'newsletter', 'highlight', 'ongoing', 'human', 'right', 'issue', 'facing', 'world', 'global', 'pandemic', 'article', 'recently', 'ethical', 'issue', 'allocation', 'times', 'scarcity', 'covid', 'ezekial', 'emanuel', 'looking', 'forward', 'important', 'discussion', 'tomorrow', 'prioritize', 'equity', 'cause', 'attention', 'select', 'article', 'focus', 'broadly', 'gender', 'planetary', 'health', 'regional', 'underserved', 'population', 'international', 'nurse', 'womenlift', 'health', 'speaker', 'series', 'gender', 'power', 'covid-19', 'highlighting', 'global', 'nursing', 'challenge', 'always', 'solidarity', 'covid-19', 'michele', 'barry', 'shenson', 'professor', 'medicine', 'tropical', 'disease', 'director', 'center', 'innovation', 'global', 'health', 'senior', 'associate', 'global', 'health', 'stanford', 'university', 'continue', 'monitor', 'following', 'reliable', 'website', 'global', 'situation', 'stanford', 'university', 'coronavirus', 'antiviral', 'research', 'database', 'world', 'health', 'organization', 'coronavirus', 'disease', 'covid-2019', 'situation', 'report', 'litcovid—–litcovid', 'curated', 'literature', 'tracking', 'scientific', 'information', 'novel', 'coronavirus', 'comprehensive', 'resource', 'subject', 'provide', 'central', 'access', 'relevant', 'article', 'pubmed', 'article', 'update', 'daily', 'categorize', 'different', 'research', 'topic', 'geographic', 'location', 'improve', 'access', 'website', 'watch', 'collaboration', 'university', 'washington', 'metacenter', 'pandemic', 'preparedness', 'global', 'health', 'security', 'strategic', 'analysis', 'research', 'training', 'start', 'center', 'provide', 'succinct', 'summary', 'latest', 'scientific', 'literature', 'relate', 'covid-19', 'pandemic', 'subscribe', 'click', 'resource', 'global', 'trend', 'topic', 'historic', 'health', 'assembly', 'global', 'commitment', 'covid-19', 'response', '5/19/20', 'brief', 'summarize', 'landmark', 'resolution', 'world', 'health', 'assembly', 'intensify', 'global', 'pandemic', 'control', 'ensure', 'equitable', 'distribution', 'saving', 'commodity', 'ending', 'violence', 'woman', 'girl', 'covid-19', 'response', '5/15/2020', 'policy', 'brief', 'woman', 'africa', 'provide', 'solution', 'increase', 'violence', 'woman', 'girl', 'cause', 'covid-19', 'pandemic', 'abortion', 'covid-19', 'pandemic', 'ensure', 'access', 'essential', 'health', 'service', '5/7/20', 'perspective', 'shed', 'light', 'abortion', 'access', 'restrictive', 'policy', 'unite', 'state', 'covid-19', 'pandemic', 'pandemic', 'vulnerable', 'forest', 'fire', '5/14/20', 'times', 'opinion', 'piece', 'focus', 'threat', 'forest', 'fire', 'unite', 'state', 'exacerbate', 'global', 'pandemic', 'covid-19', 'matter', 'planetary', 'national', 'health', '5/18/20', 'perspective', 'write', 'michele', 'barry', 'ashley', 'jowell', 'call', 'leaders', 'focus', 'taking', 'action', 'improve', 'planetary', 'health', 'mitigate', 'effects', 'future', 'pandemic', 'regional', 'covid-19', 'could', 'worsen', 'gender', 'inequality', 'latin', 'america', 'caribbean', '4/23/20', 'feature', 'story', 'world', 'shed', 'light', 'issue', 'gender', 'inequality', 'include', 'domestic', 'violence', 'participation', 'labor', 'market', 'heighten', 'covid-19', 'pandemic', 'leveraging', 'africa', 'preparedness', 'towards', 'phase', 'covid-19', 'pandemic', '5/14/20', 'lancet', 'comment', 'focus', 'preparation', 'include', 'technology', 'innovation', 'sustain', 'containment', 'leverage', 'order', 'combat', 'phase', 'covid-19', 'pandemic', 'african', 'country', 'domestic', 'underserved', 'population', 'health', 'disparity', 'stereotype', 'threat', '5/23/20', 'perspective', 'lancet', 'showcase', 'issue', 'stereotype', 'threat', 'consider', 'pandemic', 'relate', 'different', 'ethnic', 'racial', 'group', 'burner', 'diverse', 'gender', 'inclusive', 'decision', 'making', 'covid-19', 'response', 'recovery', '5/7/2020', 'commentary', 'discus', 'gender', 'inclusive', 'decision', 'making', 'covid-19', 'response', 'upcoming', 'event', 'lecture', 'thursday', 'gender', 'power', 'covid-19', 'elevate', 'voice', 'nurse', 'international', 'nurse', 'midwife', 'nurse', 'take', 'center', 'stage', 'covid-19', 'case', 'continue', 'surge', 'parts', 'world', 'nurse', 'playing', 'instrumental', 'provide', 'quality', 'life', 'sometimes', 'great', 'personal', 'sacrifice', 'physical', 'mental', 'health', 'nurse', 'consistently', 'help', 'world', 'tackle', 'health', 'emergency', 'taiwanese', 'nurse', 'develop', 'strategy', 'confront', 'outbreak', 'liberian', 'nurse', 'caring', 'patient', 'height', 'ebola', 'emergency', 'nurse', 'central', 'pandemic', 'recovery', 'response', 'others', 'frontlines', 'majority', 'world', 'nurse', 'woman', 'position', 'power', 'global', 'health', 'despite', 'strong', 'evidence', 'would', 'improve', 'overall', 'health', 'outcome', 'historically', 'nurse', 'need', 'perspective', 'adequately', 'reflect', 'policy', 'funding', 'decision', 'playing', 'global', 'stage', 'nurse', 'boldly', 'forward', 'putting', 'life', 'community', 'deliver', 'resource', 'tool', 'powerhouse', 'panel', 'include', 'clarke', 'nanyonga', 'chancellor', 'clarke', 'international', 'university', 'nursing', 'annette', 'kennedy', 'president', 'international', 'council', 'nurse', 'board', 'member', 'nursing', 'register', 'nurse', 'midwife', 'sarah', 'walji', 'board', 'member', 'nursing', 'register', 'nurse', 'halston', 'healthcare', 'demand', 'world', 'action', 'support', 'nurse', 'pandemic', 'beyond', 'thursday', '10:00', 'prioritize', 'equity', 'cause', 'diverse', 'perspective', 'health', 'equity', 'trailblazer', 'current', 'advocate', 'whose', 'drive', 'mission', 'address', 'cause', 'health', 'inequity', 'social', 'determinant', 'health', 'funding', 'opportunity', 'specific', 'covid-19', 'online', 'covid-19', 'research', 'opportunity', 'stanford', 'research', 'management', 'group', 'create', 'website', 'provide', 'complete', 'listing', 'funding', 'opportunity', 'covid-19', 'research', 'provide', 'sponsor', 'university', 'guidance', 'grant', 'clinical', 'trial', 'award', 'management', 'impact', 'covid-19', 'stanford', 'global', 'health', 'global', 'health', 'equity', 'scholar', 'fellowship', 'program', 'announce', 'fellow', 'fellow', 'competitively', 'select', 'receive', 'mentor', 'training', 'rank', 'international', 'research', 'build', 'international', 'research', 'collaboration', 'middle', 'income', 'country', 'address', 'range', 'health', 'issue', 'arise', 'urban', 'rural', 'informal', 'human', 'settlement', 'stanford', 'fellow', 'rehnuma', 'haque', 'research', 'fellow', 'infectious', 'disease', 'international', 'centre', 'diarrhoeal', 'disease', 'research', 'bangladesh', 'gerkin', 'postdoctoral', 'research', 'fellow', 'veterinary', 'medicine', 'infectious', 'disease', 'epidemiology', 'kenya', 'medical', 'research', 'institute', 'nicole', 'starr', 'postdoctoral', 'research', 'fellow', 'surgery', 'trauma', 'epidemiology', 'surveillance', 'health', 'system', 'addis', 'ababa', 'university', 'stanford', 'candidate', 'hannah', 'select', 'gates', 'foundation', 'grand', 'challenge', 'grant', 'hannah', 'stanford', 'candidate', 'select', 'grant', 'recipient', 'melinda', 'gates', 'foundation', 'grand', 'challenge', 'innovation', 'improve', 'impact', 'health', 'campaign', 'round', 'hannah', 'develop', 'modelling', 'base', 'approach', 'remote', 'sensing', 'geospatial', 'analysis', 'include', 'neglect', 'nomadic', 'population', 'health', 'database', 'campaign', 'planning', 'hannah', 'design', 'algorithm', 'method', 'satellite', 'imagery', 'access', 'geospatial', 'capture', 'population', 'movement', 'validate', 'ethiopia', 'develop', 'technical', 'infrastructure', 'scale', 'method', 'produce', 'automate', 'package', 'practice', 'guideline', 'implement', 'variety', 'resource', 'setting', 'learn', 'hannah', 'please', 'stanford', 'article', 'stanford', 'global', 'health', 'partner', 'teachaids', 'develop', 'distribute', 'covid-19', 'resource', 'covidb\\u200b', 'community', 'edit', 'platform', 'organize', 'resource', 'across', 'comprehensive', 'topic', 'relate', 'covid-19', 'public', 'launch', 'teachaids', 'faculty', 'student', 'stanford', 'dartmouth', 'university', 'teachaids', '501(c)(3', 'nonprofit', 'social', 'venture', 'stanford', 'university', 'create', 'breakthrough', 'software', 'address', 'numerous', 'persistent', 'problem', 'health', 'education', 'around', 'world', 'covidb', 'first', 'content', 'initiative', 'covidb', 'speaker', 'series', 'bring', 'together', 'world', 'leading', 'expert', 'medicine', 'public', 'health', 'technology', 'economics', 'subject', 'answer', 'detail', 'question', 'relate', 'covid-19', 'generally', 'appear', 'mainstream', 'medium', 'outlet', 'previous', 'speaker', 'series', 'recording', 'found']\n",
      "['details', 'evidence', 'positive', 'cov-2', 'result', 'receive', 'within', 'previous', 'seven', 'currently', 'hospitalize', 'willing', 'receive', 'study', 'willing', 'study', 'questionnaire', 'baseline', 'email', 'phone', 'know', 'allergy', 'contraindication', 'macrolides', 'years', 'older', 'enrollment', 'know', 'history', 'prolongation', 'interval', 'history', 'torsades', 'point', 'congenital', 'syndrome', 'bradyarrhthmia', 'recent', 'hydroxychloroquine', 'within', 'participant', 'years', 'currently', 'taking', 'nelfinavir', 'warfarin', 'coumadin', 'provision', 'inform', 'consent', 'currently', 'pregnant']\n",
      "['detail', 'description', 'propose', 'randomize', 'double', 'blind', 'placebo', 'control', 'parallel', 'group', 'phase', 'study', 'efficacy', 'safety', 'pf-06650833', 'investigational', 'hospitalize', 'adult', 'female', 'patient', 'cov-2-induced', 'mechanical', 'ventilation', 'primary', 'objective', 'study', 'ass', 'efficacy', 'pf-06650833', 'addition', 'standard', 'compare', 'standard', 'treatment', 'alone', 'improve', 'outcome', 'patient', 'covid-19', 'evidence', 'increase', 'inflammation', 'require', 'mechanical', 'ventilation', 'extracorporeal', 'membrane', 'oxygenation', 'admission', 'secondary', 'objective', 'study', 'evaluate', 'proportion', 'patient', 'alive', 'extubated', 'receive', 'oxygen', 'supplementation', 'nasal', 'cannula', 'exclude', 'extubation', 'compassionate', 'purpose', 'terminal', 'patient', 'would', 'correspond', 'least', '2-point', 'improvement', 'national', 'institute', 'allergy', 'infectious', 'disease', 'niaid', 'ordinal', 'scale', 'hospitalize', 'limitation', 'activity', 'death', 'proportion', 'patient', 'alive', 'extubated', 'receive', 'level', 'oxygen', 'supplementation', 'include', 'invasive', 'positive', 'pressure', 'ventilation', 'oxygen', 'device', 'exclude', 'extubation', 'compassionate', 'purpose', 'terminal', 'patient', 'would', 'correspond', 'least', '1-point', 'improvement', 'niaid', 'ordinal', 'scale', 'hospitalize', 'limitation', 'activity', 'death', 'percentage', 'patient', 'category', 'niaid', '8-point', 'ordinal', 'scale', 'disease', 'severity', 'ordinal', 'scale', 'assessment', 'clinical', 'status', 'first', 'assessment', 'given', 'study', 'scale', 'follow', 'hospitalize', 'limitation', 'activity', 'hospitalize', 'limitation', 'activity', 'and/or', 'require', 'oxygen', 'hospitalize', 'require', 'supplemental', 'oxygen', 'longer', 'require', 'ongoing', 'medical', 'hospitalize', 'require', 'supplemental', 'oxygen', 'require', 'ongoing', 'medical', 'covid-19', 'relate', 'otherwise', 'hospitalize', 'require', 'supplemental', 'oxygen', 'hospitalize', 'invasive', 'ventilation', 'oxygen', 'device', 'hospitalize', 'invasive', 'mechanical', 'ventilation', 'death', 'patient', 'chronic', 'supplementation', 'supplemental', 'define', 'requirement', 'chronic', 'conditions', 'obstructive', 'sleep', 'apnea', 'applicable', 'mortality', '1-point', 'improvement', 'niaid', '8-point', 'ordinal', 'scale', 'disease', 'severity', '2-point', 'improvement', 'niaid', '8-point', 'ordinal', 'scale', 'disease', 'severity', 'change', 'baseline', 'ordinal', 'scale', 'arterial', 'partial', 'pressure', 'oxygen', 'fractional', 'concentration', 'inspire', 'oxygen', 'ratio', 'ratio', 'change', 'sequential', 'organ', 'failure', 'assessment', 'evaluate', 'variable', 'represent', 'organ', 'system', 'respiratory', 'cardiovascular', 'hepatic', 'coagulation', 'renal', 'neurological', 'system', 'score', 'normal', 'degree', 'dysfunction', 'failure', 'maximum', 'score', 'range', 'duration', 'mechanical', 'ventilation', 'ventilator', 'safety', 'assess', 'reporting', 'adverse', 'event', 'change', 'clinical', 'laboratory', 'parameter', 'haemoglobin', 'white', 'blood', 'count', 'platelet', 'hepatic', 'transaminase', 'bilirubin', 'serum', 'creatinine']\n",
      "['pfizer', 'biontech', 'covid-19', 'vaccine', 'approve', 'license', 'administration', 'authorize', 'emergency', 'emergency', 'authorization', 'prevent', 'coronavirus', 'disease', 'covid-19', 'individual', 'years', 'older', 'emergency', 'product', 'authorize', 'duration', 'declaration', 'circumstances', 'exist', 'justify', 'authorization', 'emergency', 'medical', 'product', 'section', '564(b)(1', 'unless', 'declaration', 'terminate', 'authorization', 'revoke', 'sooner', 'please', 'sheet']\n",
      "['response', 'covid-19', 'pandemic', 'scientist', 'world', 'working', 'determination', 'perseverance', 'tirelessly', 'develop', 'vaccine', 'cov-2', 'virus', 'development', 'process', 'vaccine', 'undergo', 'rigorous', 'clinical', 'trial', 'assess', 'approve', 'regulatory', 'authorities', 'wide', 'public', 'vaccine', 'clinical', 'trial', 'design', 'build', 'understanding', 'safety', 'vaccine', 'determine', 'efficacy', 'immunogenicity', 'across', 'people1', 'efficacy', 'measure', 'vaccine', 'works', 'measure', 'investigating', 'vaccine', 'ability', 'prevent', 'disease1', 'covid-19', 'present', 'range', 'severity', 'measure', 'efficacy', 'endpoint', 'include', 'reduction', 'asymptomatic', 'infection', 'symptomatic', 'infection', 'hospitalisation', 'death', 'endpoint', 'efficacy', 'determine', 'comparing', 'group', 'people', 'receive', 'vaccine', 'group', 'receive', 'placebo', 'number', 'infection', 'hospitalisation', 'death', 'placebo', 'trial', 'significantly', 'higher', 'covid-19', 'vaccine', 'efficacy', 'conclude2', 'immunogenicity', 'however', 'complex', 'measure', 'vaccine', 'works', 'measure', 'immune', 'response', 'vaccine', 'generate', 'magnitude', 'time2', 'vaccine', 'teaching', 'recognise', 'foreign', 'invader', 'pathogen', 'priming', 'immune', 'system', 'introduce', 'either', 'inactivate', 'pathogen', 'allow', 'develop', 'effective', 'response', 'without', 'danger', 'disease', 'priming', 'immune', 'system', 'means', 'pathogen', 'encounter', 'naturally', 'immune', 'system', 'react', 'quickly', 'effectively', 'unprimed3', 'measure', 'immunogenicity', 'type', 'immune', 'response', 'activate', 'magnitude', 'analysis', 'provide', 'valuable', 'information', 'vaccine', 'working', 'support', 'aspect', 'determination', 'dosage', 'immunisation', 'schedules1', 'measuring', 'immunogenicity', 'however', 'complex', 'process', 'pose', 'challenge', 'scientist', 'cov-2', 'virus', 'infection', 'challenge', 'amplify', 'first', 'challenge', 'come', 'defining', 'look', 'regard', 'vaccine', 'induce', 'immune', 'response', 'order', 'determine', 'vaccine', 'effectively', 'produce', 'strong', 'sustain', 'immune', 'response', 'vaccine', 'induce', 'immune', 'response', 'would', 'typically', 'compare', 'immune', 'response', 'found', 'people', 'know', 'immunity', 'disease', 'response', 'comparable', 'greater', 'vaccine', 'show', 'promise', 'effective1', 'however', 'covid-19', 'scientist', 'still', 'working', 'learn', 'constitute', 'effective', 'natural', 'immune', 'response', 'define', 'difficult', 'scientist', 'state', 'definitively', 'vaccine', 'induce', 'immune', 'response', 'would', 'initial', 'research', 'combine', 'knowledge', 'coronaviruses', 'however', 'provide', 'guide', 'antibody', 'specifically', 'spike', 'cov-2', 'virus', 'prevent', 'entering', 'cell', 'know', 'neutralise', 'antibody', 'show', 'associate', 'protection', 'infection', 'preclinical', 'disease', 'model', 'believe', 'type', 'antibody', 'important', 'protection', 'know', 'level', 'titre', 'need', 'protection', 'recent', 'study', 'suggest', 'magnitude', 'neutralise', 'antibody', 'generate', 'natural', 'infection', 'period', 'month', 'unexpected', 'unknown', 'impact', 'longevity', 'immunity', 'cell', 'activate', 'parts', 'immune', 'system', 'directly', 'invade', 'pathogen', 'thought', 'immunity', 'cov-2', 'virus', 'presence', 'people', 'either', 'asymptomatic', 'infection', 'recover', 'specific', 'number', 'cell', 'require', 'protection', 'still', 'unknown4']\n",
      "['reach', 'agreement', 'europe', 'inclusive', 'vaccine', 'alliance', 'spearhead', 'germany', 'france', 'italy', 'netherlands', 'supply', 'million', 'dose', 'university', 'oxford', 'potential', 'covid-19', 'vaccine', 'currently', 'clinical', 'development', 'today', 'agreement', 'accelerate', 'supply', 'potential', 'vaccine', 'available', 'european', 'country', 'participate', 'initiative', 'commit', 'provide', 'equitable', 'access', 'participate', 'country', 'across', 'europe', 'astrazeneca', 'continue', 'build', 'number', 'supply', 'chains', 'parallel', 'across', 'world', 'include', 'europe', 'company', 'seeking', 'expand', 'manufacturing', 'capacity', 'collaborate', 'company', 'order', 'commitment', 'support', 'access', 'vaccine', 'profit', 'pandemic', 'pascal', 'soriot', 'chief', 'executive', 'officer', 'agreement', 'ensure', 'hundred', 'million', 'european', 'access', 'oxford', 'university', 'vaccine', 'following', 'approval', 'european', 'supply', 'chain', 'begin', 'production', 'vaccine', 'available', 'widely', 'rapidly', 'would', 'thank', 'government', 'germany', 'france', 'italy', 'netherlands', 'commitment', 'swift', 'response', 'company', 'recently', 'complete', 'similar', 'agreement', 'coalition', 'epidemic', 'preparedness', 'innovation', 'vaccine', 'alliance', 'million', 'dose', 'agree', 'licence', 'serum', 'institute', 'india', 'supply', 'additional', 'billion', 'dose', 'principally', 'middle', 'income', 'country', 'total', 'manufacturing', 'capacity', 'currently', 'stand', 'billion', 'dose', 'oxford', 'university', 'month', 'announce', 'start', 'phase', 'trial', 'azd1222', '10,000', 'adult', 'volunteer', 'stage', 'trial', 'begin', 'number', 'country', 'astrazeneca', 'recognise', 'potential', 'vaccine', 'commit', 'progress', 'clinical', 'programme', 'speed', 'scaling', 'manufacturing', 'company', 'comprehensive', 'pandemic', 'response', 'include', 'rapid', 'mobilisation', 'astrazeneca', 'global', 'research', 'effort', 'discover', 'novel', 'coronavirus', 'neutralise', 'antibody', 'prevent', 'treat', 'progression', 'covid-19', 'disease', 'reaching', 'clinical', 'trial', 'three', 'month', 'additionally', 'company', 'quickly', 'move', 'testing', 'exist', 'medicine', 'treat', 'infection', 'include', 'calavi', 'trial', 'underway', 'calquence', 'acalabrutinib', 'dare-19', 'trial', 'farxiga', 'dapagliflozin', 'covid-19', 'patient']\n",
      "['shifting', 'market', 'demand', 'seeing', 'healthcare', 'system', 'holistic', 'complete', 'pathway', 'environmental', 'impact', 'medicine', 'power', 'resource', 'organisation', 'supply', 'chain', 'impact', 'patient', 'poorly', 'manage', 'chronic', 'disease', 'example', 'million', 'people', 'suffering', 'asthma', 'national', 'health', 'service', 'working', 'halve', 'carbon', 'impact', 'inhaler', '2028.9', 'additionally', 'organisation', 'sustainable', 'healthcare', 'coalition', 'develop', 'guidance', 'evaluate', 'environmental', 'impact', 'exist', 'health', 'pathway', 'consider', 'sustainability', 'designing', 'designing', 'model', 'care.10', 'connect', 'healthy', 'business', 'people', 'planet', 'healthy', 'planet', 'essential', 'promote', 'human', 'health', 'power', 'change', 'together', 'environmentally', 'sustainable', 'economic', 'model', 'deliver', 'global', 'health.11', 'community', 'necessarily', 'choose', 'quality', 'breathe', 'water', 'drink', 'people', 'globally', 'access', 'mobile', 'telephone', 'clean', 'drinking', 'water', 'basic', 'sanitation12', 'despite', 'perhaps', 'rapid', 'urbanisation', 'integrate', 'action', 'protect', 'support', 'current', 'future', 'health', 'people', 'planet', 'astrazeneca', 'unite', 'desire', 'boundary', 'science', 'deliver', 'change', 'medicine', 'continue', 'transform', 'life', 'million', 'patient', 'around', 'world', 'deliver', 'value', 'employee', 'community', 'environment', 'believe', 'strong', 'connection', 'health', 'business', 'patient', 'workforce', 'planet', 'impact', 'others', 'despite', 'complexity', 'challenge', 'ahead', 'confident', 'sustainable', 'future', 'working', 'address', 'challenge', 'ambitious', 'action', 'operate', 'recognise', 'interconnection', 'source', 'renewable', 'power', 'solvent', 'recovery', 'water', 'reuse', 'understanding', 'minimise', 'environmental', 'footprint', 'medicine', 'ambition', 'global', 'transition', 'brown', 'green', 'economy', 'serve', 'patient', 'societal', 'environmental', 'priority', 'lancet', 'commission', 'cite', 'climate', 'change', 'century', 'greatest', 'global', 'health', 'opportunity,13', 'taking', 'action', 'across', 'activity', 'contribute', 'toward', 'healthy', 'planet', 'healthy', 'people', 'greenhouse', 'reduction', 'greenhouse', 'gas', 'human', 'activity', 'represent', 'major', 'contributor', 'climate', 'change', 'years', 'recognise', 'plethora', 'opportunity', 'improve', 'global', 'health', 'greenhouse', 'reduction,14', 'address', 'decarbonisation', 'organisation', 'throughout', 'value', 'chain', 'business', 'imperative', 'ambition', 'carbon', 'unveil', 'january', 'bring', 'plan', 'complete', 'decarbonisation', 'forward', 'decade', 'initiative', 'deliver', 'carbon', 'negative', 'value', 'chain', 'across', 'site', 'supplier', 'target', 'verify', 'science', 'climate', 'change', 'working', 'alongside', 'internationally', 'recognise', 'body', 'science', 'base', 'target', 'initiative', 'sustainable', 'market', 'council', 'accelerate', 'transition', 'global', 'decarbonise', 'economy', 'product', 'environmental', 'stewardship', 'society', 'deserve', 'product', 'minimal', 'environmental', 'impact', 'without', 'sacrifice', 'safety', 'efficacy', 'consequently', 'evaluate', 'material', 'process', 'throughout', 'product', 'development', 'discovery', 'addition', 'address', 'area', 'include', 'responsible', 'supply', 'chain', 'water', 'waste', 'priority', 'contribute', 'climate', 'agenda', 'switching', 'generation', 'propellant', 'global', 'warming', 'potential', 'asthma', 'devices', 'water', 'stewardship', 'almost', 'third', 'people', 'globally', 'without', 'access', 'clean', 'drinking', 'water,15', 'taking', 'broad', 'approach', 'water', 'stewardship', 'reducing', 'water', 'site', 'ensure', 'quality', 'water', 'environment', 'looking', 'impact', 'climate', 'change', 'water', 'stress', 'area', 'responsible', 'water', 'management', 'important', 'understand', 'local', 'risk', 'place', 'community', 'operate', 'future', 'proof', 'response', 'together', 'expert', 'global', 'water', 'stewardship', 'world', 'nature', 'sweden', 'initiate', 'project', 'analyse', 'physical', 'reputational', 'regulatory', 'water', 'risk', 'within', 'water', 'filter', 'across', 'global', 'operations', 'establish', 'strengthen', 'water', 'stewardship', 'programme', 'pharmaceutical', 'environment', 'pharmaceutical', 'primarily', 'enter', 'environment', 'human', 'excretion', 'improper', 'disposal', 'negative', 'impact', 'wildlife', 'human', 'health', 'determine', 'risk', 'ensure', 'safety', 'throughout', 'product', 'lifecycle', 'environmental', 'transparent', 'product', 'assessment', 'ecopharmacovigilance', 'company', 'discharge', 'target', 'annual', 'report', 'production', 'site', 'supplier', 'statement', 'outline', 'industry', 'leading', 'approach', 'ensure', 'environmental', 'safety', 'medicine', 'waste', 'management', 'waste', 'pollute', 'negative', 'impact', 'planet', 'people', 'health', 'waste', 'state', 'produce', 'focusing', 'first', 'prevention', 'reduction', 'approach', 'make', 'waste', 'avoid', 'explore', 'every', 'option', 'ensure', 'repurposed', 'reuse', 'others', 'reducing', 'waste', 'lower', 'risk', 'people', 'environment', 'maximise', 'resource', 'efficiency', 'balancing', 'natural', 'resource', 'sustainably', 'regenerate', 'initiative', 'across', 'site', 'replace', 'million', 'piece', 'plastic', 'cutlery', 'compostable', 'reusable', 'alternative', 'sign', 'national', 'health', 'service', 'plastic', 'pledge', 'across', 'operations', 'site', 'remove', 'specific', 'item', 'plastic', 'connect', 'health', 'people', 'planet', 'health', 'global', 'agenda', 'driving', 'sustainable', 'solution', 'healthcare', 'given', 'health', 'water', 'pollution', 'reflect', 'estimate', 'million', 'premature', 'death', 'globally.16', 'supporting', 'healthy', 'environment', 'contribute', 'healthier', 'ecosystem', 'could', 'prevent', 'incidence', 'disease', 'global', 'scale', 'local', 'national', 'level', 'proactive', 'disease', 'prevention', 'take', 'precedence', 'broaden', 'access', 'healthcare', 'screening', 'early', 'diagnosis', 'programme', 'tackle', 'burden', 'communicable', 'health', 'conditions', 'particularly', 'middle', 'income', 'country', 'currently', 'necessary', 'healthcare', 'infrastructure', 'impact', 'covid-19', 'working', 'towards', 'future', 'people', 'access', 'sustainable', 'healthcare', 'solution', 'change', 'treatment', 'prevention', 'awareness', 'education', 'programme', 'training', 'healthcare', 'professional', 'activating', 'health', 'facilities.4', 'achieve', 'stakeholder', 'global', 'health', 'review', 'process', 'resource', 'identify', 'innovate', 'remove', 'reduce', 'reuse', 'recycle', 'material', 'ensure', 'match', 'resource', 'company', 'means', 'adopt', 'approach', 'sustainable', 'medicine', 'development', 'discovery', 'circularity', 'every', 'stage', 'working', 'others', 'drive', 'societal', 'change', 'connect', 'company', 'target', 'sustainable', 'development', 'goal', 'unite', 'nation', 'agenda', 'sustainable', 'development', 'contribute', 'directly', 'level.2', 'practice', 'means', 'understanding', 'big', 'issue', 'global', 'community', 'measuring', 'business', 'success', 'contribution', 'healthy', 'people', 'healthy', 'planet', 'whether', 'sustainable', 'management', 'efficient', 'natural', 'resource', 'reducing', 'waste', 'generation', 'promote', 'sustainable', 'procurement', 'practice', 'cutting', 'premature', 'death', 'communicable', 'disease', 'figure']\n",
      "['company', 'brunswick', 'march', 'welcome', 'interim', 'recommendation', 'strategic', 'advisory', 'group', 'expert', 'immunization', 'world', 'health', 'organization', 'supporting', 'johnson', 'johnson', 'single', 'covid-19', 'vaccine', 'develop', 'janssen', 'pharmaceutical', 'company', 'johnson', 'johnson', 'prevent', 'covid-19', 'person', 'years', 'advise', 'global', 'vaccine', 'immunization', 'policy', 'recommendation', 'provide', 'guidance', 'vaccine', 'supply', 'covax', 'facility', 'global', 'sharing', 'mechanism', 'pool', 'procurement', 'equitable', 'distribution', 'covid-19', 'vaccine', 'participate', 'country', 'country', 'join', 'covax', 'facility', 'include', 'lower', 'middle', 'income', 'country', 'johnson', 'johnson', 'commit', 'ensure', 'global', 'access', 'johnson', 'johnson', 'single', 'covid-19', 'vaccine', 'candidate', 'profit', 'basis', 'emergency', 'pandemic', 'december', 'johnson', 'johnson', 'enter', 'agreement', 'principle', 'vaccine', 'alliance', 'support', 'covax', 'facility', 'johnson', 'johnson', 'expect', 'enter', 'advance', 'purchase', 'agreement', 'would', 'provide', 'million', 'dose', 'company', 'vaccine', 'covax', 'recommendation', 'base', 'scientific', 'evidence', 'present', 'johnson', 'johnson', 'include', 'phase', 'ensemble', 'study', 'phase', 'ensemble', 'study', 'show', 'johnson', 'johnson', 'covid-19', 'vaccine', 'tolerate', 'demonstrate', 'percent', 'reduction', 'symptomatic', 'covid-19', 'disease', 'participant', 'receive', 'vaccine', 'comparison', 'participant', 'given', 'placebo', 'onset', 'protection', 'observe', 'maintain', 'vaccination', 'demonstrate', 'vaccine', 'percent', 'effective', 'prevent', 'severe', 'disease', 'across', 'region', 'study', 'show', 'protection', 'covid-19', 'relate', 'hospitalization', 'death', 'across', 'country', 'different', 'variant', 'beginning', 'vaccination', 'variant', 'observe', 'ongoing', 'analysis', 'ensemble', 'study', 'include', 'b.1.351', 'variant', 'identify', 'percent', 'covid-19', 'case', 'south', 'africa', 'today', 'recommendation', 'follow', 'issuing', 'emergency', 'listing', 'march', 'european', 'commission', 'grant', 'conditional', 'marketing', 'authorization', 'march', 'emergency', 'authorization', 'issue', 'administration', 'february', 'single', 'covid-19', 'vaccine', 'grant', 'interim', 'order', 'authorization', 'canada', 'additional', 'rolling', 'submission', 'initiate', 'several', 'country', 'worldwide', 'johnson', 'johnson', 'covid-19', 'single', 'vaccine', 'compatible', 'standard', 'vaccine', 'storage', 'distribution', 'channels', 'enable', 'delivery', 'remote', 'area', 'vaccine', 'estimate', 'remain', 'stable', 'years', 'maximum', 'three', 'month', 'routine', 'refrigeration', 'temperature', 'therefore', 'ship', 'using', 'chain', 'technology', 'today', 'transport', 'medicine', 'vaccine', 'routine', 'johnson', 'johnson', 'covid-19', 'vaccine', 'leverage', 'advac', 'vaccine', 'platform', 'unique', 'proprietary', 'technology', 'develop', 'manufacture', 'company', 'european', 'commission', 'approve', 'ebola', 'vaccine', 'regimen', 'construct', 'investigational', 'vaccine']\n",
      "['mobile', 'crowd', 'source', 'covid-19', 'symptom', 'accurately', 'identify', 'local', 'coronavirus', 'outbreak', 'appear', 'accord', 'johns', 'hopkins', 'medicine', 'scientist', 'develop', 'johns', 'hopkins', 'launch', 'covid', 'control', 'studying', 'report', 'covid-19', 'symptom', 'predict', 'potential', 'outbreak', 'virus', 'enable', 'public', 'health', 'leaders', 'enact', 'measure', 'contain', 'virus', 'spread', 'result', 'researcher', 'findings', 'publish', 'february', 'nature', 'scientific', 'report', 'really', 'promise', 'example', 'public', 'participation', 'ubiquity', 'technology', 'phone', 'track', 'disease', 'robert', 'stevens', 'director', 'anesthesiology', 'critical', 'precision', 'medicine', 'johns', 'hopkins', 'university', 'school', 'medicine', 'limited', 'infectious', 'disease', 'could', 'track', 'epidemiology', 'number', 'prevalent', 'health', 'conditions', 'heart', 'disease', 'cancer', 'diabetes', 'available', 'google', 'apple', 'store', 'covid', 'control', 'enable', 'user', 'anonymously', 'report', 'symptom', 'associate', 'covid-19', 'fever', 'taste', 'smell', 'nausea', 'symptom', 'create', 'publicly', 'viewable', 'showing', 'cluster', 'people', 'experience', 'symptom', 'since', 'launch', '19,000', 'user', '1,019', 'county', 'every', 'state', 'across', 'log', '174,000', 'entry', 'study', 'focus', 'baltimore', 'baltimore', 'county', 'show', 'cluster', 'symptom', 'log', 'covid', 'control', 'user', 'correlate', 'location', 'increase', 'coronavirus', 'prevalence', 'report', 'baltimore', 'department', 'health', 'taste', 'smell', 'show', 'strong', 'correlation', 'symptom', 'reporting', 'confirm', 'covid-19', 'case', 'predict', 'spike', 'case', 'average', 'department', 'health', 'confirm', 'coronavirus', 'outbreak', 'covid', 'control', 'research', 'group', 'comprise', 'engineer', 'epidemiologist', 'physician', 'johns', 'hopkins', 'whiting', 'school', 'engineering', 'bloomberg', 'school', 'public', 'health', 'johns', 'hopkins', 'university', 'school', 'medicine', 'stevens', 'available', 'interview']\n",
      "['editor', 'vaccination', 'severe', 'acute', 'respiratory', 'syndrome', 'coronavirus', 'cov-2', 'prevent', 'infection', 'reduce', 'severity', 'coronavirus', 'disease', 'covid-19', 'vaccinate', 'persons.1,2', 'investigate', 'whether', 'vaccination', 'would', 'reduce', 'transmission', 'household', 'setting', 'context', 'postvaccination', 'infection', 'analyze', 'household', 'transmission', 'evaluation', 'dataset', 'host', 'information', 'laboratory', 'confirm', 'case', 'covid-19', 'england', 'person', 'sharing', 'address', 'linked.3', 'link', 'individual', 'level', 'covid-19', 'vaccination', 'england', 'method', 'section', 'supplementary', 'appendix', 'available', 'letter', 'compare', 'secondary', 'infection', 'define', 'positive', 'cov-2', 'positive', 'index', 'among', 'unvaccinated', 'household', 'contact', 'person', 'cov-2', 'infection', 'receive', 'least', 'chadox1', 'ncov-19', 'bnt162b2', 'vaccine', 'testing', 'positive', 'among', 'unvaccinated', 'household', 'contact', 'unvaccinated', 'person', 'infection', 'fit', 'logistic', 'regression', 'model', 'adjustment', 'person', 'index', 'covid-19', 'index', 'patient', 'household', 'contact', 'geographic', 'region', 'calendar', 'index', 'deprivation', 'composite', 'score', 'socioeconomic', 'factor', 'household', 'consider', 'timing', 'effects', 'among', 'index', 'patient', 'vaccinate', 'positive', 'table', 'table', 'numbers', 'household', 'contact', 'secondary', 'case', 'covid-19', 'accord', 'vaccination', 'status', 'index', 'patient', 'adjust', 'ratio', 'january', 'february', '960,765', 'household', 'contact', 'unvaccinated', 'index', 'patient', '96,898', 'secondary', 'case', 'covid-19', 'descriptive', 'regard', 'index', 'patient', 'household', 'contact', 'provide', 'summary', 'result', 'section', 'numbers', 'secondary', 'case', 'accord', 'vaccination', 'status', 'index', 'patient', 'result', 'logistic', 'regression', 'model', 'show', 'table', 'overall', 'likelihood', 'household', 'transmission', 'approximately', 'lower', 'household', 'index', 'patient', 'vaccinate', 'testing', 'positive', 'household', 'unvaccinated', 'index', 'patient', 'findings', 'similar', 'vaccine', 'vaccinate', 'index', 'patient', 'receive', 'first', 'vaccine', 'assessment', 'infection', 'risk', 'among', 'household', 'contact', 'accord', 'timing', 'vaccination', 'index', 'patient', 'show', 'protective', 'effects', 'vaccine', 'administer', 'least', 'positive', 'supplementary', 'appendix', 'host', 'include', 'symptom', 'cycle', 'threshold', 'values', 'information', 'diagnose', 'case', 'among', 'index', 'patient', 'vaccinate', 'likely', 'severely', 'symptomatic2', 'might', 'infectious', 'unvaccinated.4', 'study', 'involve', 'active', 'follow', 'contact', 'serologic', 'testing', 'show', 'higher', 'rates', 'household', 'transmission', 'observe', 'study5', 'could', 'occur', 'ascertainment', 'differ', 'household', 'contact', 'vaccinate', 'person', 'unvaccinated', 'person', 'findings', 'respect', 'timing', 'vaccination', 'index', 'patient', 'consistent', 'previous', 'regard', 'timing', 'individual', 'protection', 'vaccination1', 'support', 'overall', 'findings', 'misclassification', 'index', 'secondary', 'case', 'determine', 'basis', 'testing', 'date', 'however', 'misclassification', 'would', 'attenuate', 'estimate', 'protective', 'effect', 'vaccination', 'need', 'inform', 'reduction', 'transmissibility', 'virus', 'receipt', 'vaccine', 'dose', 'important', 'consider', 'findings', 'alongside', 'emerge', 'evidence', 'inform', 'benefit', 'vaccination', 'harris', 'ph.d.', 'public', 'health', 'england', 'london', 'unite', 'kingdom', 'email', 'protect', 'jennifer', 'ph.d.', 'university', 'college', 'london', 'institute', 'woman', 'health', 'london', 'unite', 'kingdom', 'zaidi', 'andrews', 'ph.d.', 'kevin', 'dunbar', 'gavin', 'dabrera', 'f.f.p.h.', 'public', 'health', 'england', 'london', 'unite', 'kingdom', 'support', 'public', 'health', 'england', 'disclosure', 'form', 'provide', 'author', 'available', 'letter', 'household', 'transmission', 'evaluation', 'dataset', 'host', 'surveillance', 'system', 'review', 'approve', 'public', 'health', 'england', 'research', 'ethics', 'governance', 'group', 'collect', 'link', 'digital', 'process', 'lawfully', 'general', 'protection', 'regulation', 'article', '6(1)e', '9(2)i', 'share', 'regulation', 'health', 'service', 'control', 'patient', 'information', 'regulation', 'letter', 'publish', 'dunbar', 'dabrera', 'contribute', 'equally', 'letter']\n",
      "['moderna', 'moderna', 'empresa', 'biotecnología', 'fundada', 'moderna', 'somos', 'pioneros', 'clase', 'medicamentos', 'basados', 'mensajero', 'célula', 'cuerpo', 'utiliza', 'proporciona', 'instrucciones', 'producir', 'proteínas', 'organismo', 'necesita', 'afecta', 'muchos', 'aspectos', 'biología', 'incluidas', 'salud', 'enfermedad', 'actualmente', 'estamos', 'desarrollando', 'vacunas', 'medicamentos', 'basados', 'diversas', 'afecciones', 'incluida', 'covid‑19']\n",
      "['pr/1740', 'bangkok', 'member', 'country', 'south', 'region', 'today', 'resolve', 'collectively', 'fight', 'covid-19', 'strengthen', 'region', 'response', 'better', 'equip', 'health', 'system', 'deliver', 'essential', 'health', 'services', 'pandemic', 'spread', 'covid-19', 'impact', 'almost', 'every', 'community', 'overwhelm', 'health', 'system', 'disrupt', 'economy', 'livelihood', 'effects', 'reaching', 'beyond', 'health', 'sector', 'disproportionately', 'impact', 'vulnerable', 'recently', 'survey', 'country', 'understand', 'better', 'priority', 'south', 'region', 'agenda', 'maintain', 'essential', 'health', 'services', 'director', 'general', 'tedros', 'adhanom', 'ghebreyesus', 'signing', 'declaration', 'collective', 'response', 'covid-19', 'along', 'minister', 'health', 'representative', 'member', 'country', 'regional', 'director', 'south', 'region', 'poonam', 'khetrapal', 'singh', 'people', 'ordinary', 'health', 'need', 'disappear', 'extraordinary', 'event', 'health', 'security', 'building', 'capacity', 'prevent', 'prepare', 'respond', 'acute', 'event', 'building', 'capacity', 'maintain', 'essential', 'health', 'services', 'duration', 'response', 'recovery', 'declaration', 'sign', 'ministerial', 'round', 'table', 'second', 'seventy', 'third', 'regional', 'committee', 'session', 'host', 'thailand', 'virtually', 'first', 'covid-19', 'pandemic', 'roundtable', 'member', 'country', 'share', 'various', 'covid-19', 'response', 'measure', 'effort', 'maintain', 'essential', 'health', 'services', 'restore', 'impact', 'pandemic', 'country', 'agree', 'importance', 'universal', 'health', 'coverage', 'primary', 'health', 'safety', 'people', 'access', 'quality', 'health', 'services', 'covid-19', 'essential', 'services', 'include', 'vulnerable', 'population', 'declaration', 'call', 'effort', 'ensure', 'country', 'sustain', 'essential', 'health', 'services', 'public', 'health', 'program', 'public', 'health', 'emergency', 'current', 'pandemic', 'opportunity', 'build', 'health', 'system', 'better', 'member', 'country', 'agree', 'allocation', 'adequate', 'budget', 'ensure', 'uninterrupted', 'services', 'beyond', 'pandemic', 'prioritize', 'health', 'people', 'country', 'resolve', 'strengthen', 'health', 'information', 'system', 'leveraging', 'digital', 'technology', 'capture', 'timely', 'reporting', 'outbreak', 'sharing', 'information', 'policy', 'decision', 'health', 'worker', 'playing', 'crucial', 'pandemic', 'member', 'country', 'pledge', 'ensure', 'occupational', 'health', 'safety', 'health', 'professional', 'relate', 'worker', 'speaking', 'health', 'minister', 'member', 'state', 'khetrapal', 'singh', 'continue', 'effort', 'health', 'worker', 'infection', 'violence', 'provide', 'mental', 'health', 'psychosocial', 'support', 'declaration', 'call', 'strengthening', 'safety', 'patient', 'people', 'adequate', 'public', 'health', 'social', 'measure', 'access', 'quality', 'personal', 'protective', 'devices', 'strengthening', 'occupational', 'environmental', 'safety', 'medical', 'waste', 'management', 'system', 'making', 'biomedical', 'system', 'research', 'strong', 'agree', 'member', 'country', 'agree', 'continue', 'expand', 'multi', 'sectoral', 'collaboration', 'strengthening', 'regional', 'collaboration', 'scaling', 'capacity', 'preparedness', 'surveillance', 'rapid', 'response', 'field', 'epidemiology', 'training', 'supply', 'chain', 'management', 'medicine', 'medical', 'supply', 'regional', 'stockpiling', 'essential', 'health', 'resource', 'resolve', 'identify', 'strengthen', 'capacity', 'require', 'international', 'health', 'regulation', 'country', 'region', 'agree', 'fully', 'engage', 'global', 'discussion', 'equitable', 'allocation', 'vaccine', 'medicine', 'diagnostics', 'covid-19', 'people', 'sector', 'country', 'partner', 'together', 'strengthen', 'response', 'build', 'recovery', 'future', 'health', 'secure', 'people', 'health', 'need', 'precondition', 'achieve', 'sustainable', 'development', 'strive', 'add', 'khetrapal', 'singh']\n",
      "['experience', 'following', 'symptom', 'hours', 'fever', 'chill', 'cough', 'shortness', 'breath', 'difficulty', 'breathing', 'fatigue', 'muscle', 'ache', 'headache', 'taste', 'smell', 'throat', 'congestion', 'runny', 'nausea', 'vomiting', 'diarrhea', 'symptom', 'hours', 'physically', 'return', 'workplace', 'symptom', 'subside', 'hours', 'chronic', 'medical', 'condition', 'cause', 'covid-19-like', 'symptom', 'access', 'facility', 'within', 'please', 'obtain', 'medical', 'documentation', 'primary', 'physician', 'occupational', 'health', 'clinic', 'determine', 'whether', 'safely', 'grant', 'access', 'facility', 'fully', 'vaccinate', 'individual', 'access', 'campus', 'currently', 'experience', 'symptom', 'urgent', 'access', 'facility', 'experience', 'symptom', 'please', 'contact', 'management', 'officer', 'request', 'waiver', 'waiver', 'grant', 'exigent', 'circumstances', 'respond', 'waiver', 'request', 'individual', 'fully', 'vaccinate', 'individual', 'symptom', 'require', 'waiver', 'management', 'officer', 'isolate', 'quarantine', 'test', 'positive', 'covid-19', 'worry', 'covid-19', 'concern', 'expose', 'covid-19', 'please', 'quarantine', 'isolate', 'isolation', 'quarantine', 'question', 'return', 'workplace', 'please', 'occupational', 'health', 'clinic', 'urgent', 'access', 'facility', 'quarantine', 'please', 'contact', 'management', 'officer', 'request', 'waiver', 'waiver', 'grant', 'exigent', 'circumstances', 'respond', 'waiver', 'request', 'individual', 'fully', 'vaccinate', 'individual', 'require', 'waiver', 'management', 'officer', 'fully', 'vaccinate', 'recover', 'document', 'covid-19', 'infection', 'month', 'consider', 'fully', 'vaccinate', 'week', 'following', 'receipt', 'second', '2-dose', 'series', 'week', 'following', 'receipt', 'single', 'vaccine', 'prefer', 'answer', 'close', 'physical', 'contact', 'anyone', 'know', 'laboratory', 'confirm', 'covid-19', 'anyone', 'symptom', 'consistent', 'covid-19', 'close', 'physical', 'contact', 'define', 'within', 'infect', 'symptomatic', 'person', 'cumulative', 'total', 'minutes', '24-hour', 'period', 'starting', 'hours', 'illness', 'onset', 'asymptomatic', 'individual', 'hours', 'prior', 'specimen', 'collection', 'close', 'contact', 'someone', 'covid-19', 'quarantine', 'return', 'facility', 'isolation', 'quarantine', 'urgent', 'quarantine', 'early', 'access', 'facility', 'please', 'contact', 'management', 'officer', 'request', 'waiver', 'occupational', 'health', 'clinic', 'waiver', 'grant', 'exigent', 'circumstances', 'respond', 'waiver', 'request', 'individual', 'currently', 'waiting', 'result', 'covid-19', 'important', 'answer', 'waiting', 'result', 'travel', 'travel', 'covid-19', 'urgent', 'access', 'facility', 'waiting', 'result', 'please', 'contact', 'management', 'officer', 'request', 'waiver', 'occupational', 'health', 'clinic', 'waiver', 'grant', 'exigent', 'circumstances', 'respond', 'waiver', 'request', 'individual', 'travel', 'travel', 'define', 'overnight', 'public', 'transportation', 'plane', 'train', 'overnight', 'people', 'household', 'urgent', 'access', 'facility', '10-day', 'travel', 'quarantine', 'please', 'contact', 'management', 'officer', 'request', 'waiver', 'occupational', 'health', 'clinic', 'waiver', 'grant', 'exigent', 'circumstances', 'respond', 'waiver', 'request', 'individual', 'possible', 'reduce', 'travel', 'quarantine', 'negative', 'viral', 'travel', 'arrange', 'testing', 'need', 'waiver', 'need', 'reduce', 'quarantine', 'period', 'certify', 'response', 'correct']\n",
      "['covid-19', 'vaccination', 'unite', 'state', 'definition', 'total', 'dose', 'deliver', 'total', 'count', 'total', 'number', 'vaccine', 'dose', 'deliver', 'dose', 'deliver', 'include', 'jurisdiction', 'state', 'territory', 'tribe', 'local', 'entity', 'partner', 'clinic', 'retail', 'pharmacy', 'facility', 'dialysis', 'center', 'participate', 'federal', 'dialysis', 'center', 'program', 'federal', 'emergency', 'management', 'agency', 'partner', 'site', 'health', 'resource', 'services', 'administration', 'partner', 'site', 'federal', 'entity', 'facility', 'department', 'defense', 'veteran', 'health', 'administration', 'indian', 'health', 'service', 'bureau', 'prison', 'jurisdiction', 'federal', 'entity', 'reflect', 'national', 'level', 'agency', 'callout', 'box', 'combining', 'jurisdiction', 'level', 'dose', 'deliver', 'result', 'double', 'counting', 'state', 'washington', 'virgin', 'island', 'puerto', 'total', 'count', 'covid-19', 'vaccine', 'dose', 'include', 'dose', 'deliver', 'since', 'december', 'republic', 'palau', 'federate', 'state', 'micronesia', 'republic', 'marshall', 'island', 'american', 'samoa', 'commonwealth', 'northern', 'marianas', 'island', 'total', 'count', 'covid-19', 'vaccine', 'dose', 'include', 'dose', 'mark', 'ship', 'vtrcks', 'since', 'december', 'dose', 'deliver', '100,000', 'total', 'number', 'vaccine', 'dose', 'deliver', 'every', '100,000', 'people', 'overall', 'population', 'years', 'older', 'population', 'years', 'older', 'population', 'years', 'older', 'allow', 'comparison', 'area', 'different', 'population', 'size', 'total', 'dose', 'administer', 'total', 'count', 'total', 'number', 'vaccine', 'dose', 'given', 'people', 'unite', 'state', 'since', 'december', 'first', 'administer', 'person', 'unite', 'state', 'emergency', 'authorization', 'clinical', 'trial', 'dose', 'administer', 'jurisdiction', 'state', 'territory', 'tribe', 'local', 'entity', 'include', 'administer', 'jurisdictional', 'state', 'territory', 'tribe', 'local', 'entity', 'partner', 'clinic', 'retail', 'pharmacy', 'facility', 'dialysis', 'center', 'participate', 'federal', 'dialysis', 'center', 'program', 'federal', 'emergency', 'management', 'agency', 'partner', 'site', 'health', 'resource', 'services', 'administration', 'partner', 'site', 'federal', 'entity', 'facility', 'department', 'defense', 'veteran', 'health', 'administration', 'indian', 'health', 'service', 'bureau', 'prison', 'jurisdiction', 'federal', 'entity', 'reflect', 'national', 'level', 'agency', 'callout', 'box', 'combining', 'jurisdiction', 'level', 'dose', 'administer', 'result', 'double', 'counting', 'measure', 'covid', 'tracker', 'attribute', 'jurisdiction', 'person', 'receive', 'total', 'dose', 'administer', '100,000', 'total', 'number', 'vaccine', 'dose', 'given', 'every', '100,000', 'people', 'overall', 'population', 'years', 'older', 'population', 'years', 'older', 'population', 'years', 'older', 'allow', 'comparison', 'area', 'different', 'population', 'size', 'people', 'receive', 'least', 'formerly', 'receive', 'dose', 'total', 'count', 'represent', 'total', 'number', 'people', 'receive', 'least', 'covid-19', 'vaccine', 'include', 'receive', 'single', 'johnson', 'johnson', 'janssen', 'covid-19', 'vaccine', 'metric', 'include', 'everyone', 'receive', 'receive', 'measure', 'covid', 'tracker', 'attribute', 'jurisdiction', 'state', 'territory', 'tribe', 'local', 'entity', 'person', 'reside', 'people', 'receive', 'least', 'percent', 'population', 'represent', 'percent', 'people', 'receive', 'least', 'covid-19', 'vaccine', 'include', 'receive', 'single', 'johnson', 'johnson', 'janssen', 'covid-19', 'vaccine', 'metric', 'include', 'everyone', 'receive', 'receive', 'measure', 'covid', 'tracker', 'attribute', 'jurisdiction', 'state', 'territory', 'tribe', 'local', 'entity', 'person', 'reside', 'include', 'dose', 'administer', 'partner', 'site', 'partner', 'site', 'federal', 'entity', 'facility', 'estimate', 'total', 'population', 'population', 'years', 'older', 'population', 'years', 'older', 'population', 'years', 'older', 'denominator', 'calculate', 'percentage', 'people', 'fully', 'vaccinate', 'formerly', 'receive', 'dose', 'total', 'count', 'represent', 'number', 'people', 'receive', 'second', 'covid-19', 'vaccine', 'series', 'single', 'johnson', 'johnson', 'janssen', 'covid-19', 'vaccine', 'measure', 'covid', 'tracker', 'attribute', 'jurisdiction', 'state', 'territory', 'tribe', 'local', 'entity', 'person', 'reside', 'estimate', 'total', 'population', 'population', 'years', 'older', 'population', 'years', 'older', 'population', 'years', 'older', 'denominator', 'calculate', 'percentage', 'people', 'fully', 'vaccinate', 'percent', 'population', 'represent', 'number', 'people', 'receive', 'second', 'covid-19', 'vaccine', 'series', 'single', 'johnson', 'johnson', 'janssen', 'covid-19', 'vaccine', 'measure', 'covid', 'tracker', 'attribute', 'jurisdiction', 'state', 'territory', 'tribe', 'local', 'entity', 'person', 'reside', 'include', 'dose', 'administer', 'partner', 'site', 'partner', 'site', 'federal', 'entity', 'facility', 'estimate', 'total', 'population', 'population', 'years', 'older', 'population', 'years', 'older', 'population', 'years', 'older', 'denominator', 'calculate', 'percentage', 'definition', 'differ', 'current', 'interim', 'clinical', 'consideration', 'accord', 'interim', 'guidance', 'second', 'pfizer', 'biontech', 'moderna', 'vaccine', 'administer', 'close', 'recommend', 'interval', 'possible', 'earlier', 'recommend', 'week', 'pfizer', 'biontech', 'month', 'moderna', 'however', 'second', 'dose', 'administer', 'within', 'grace', 'period', 'earlier', 'recommend', 'second', 'still', 'consider', 'valid', 'feasible', 'adhere', 'recommend', 'interval', 'delay', 'vaccination', 'unavoidable', 'second', 'pfizer', 'biontech', 'moderna', 'covid-19', 'vaccine', 'administer', 'week', 'first', 'currently', 'limited', 'available', 'efficacy', 'covid-19', 'vaccine', 'administer', 'beyond', 'window', 'ensure', 'adequate', 'immune', 'response', 'occur', 'person', 'consider', 'fully', 'vaccinate', 'greater', 'equal', 'week', 'completion', 'series', 'single', 'janssen', 'vaccine', 'rates', '100,000', 'represent', 'total', 'dose', 'deliver', 'total', 'dose', 'administer', 'people', 'receive', 'least', 'people', 'fully', 'vaccinate', '100,000', 'total', 'population', 'population', 'years', 'older', 'population', 'years', 'older', 'population', 'years', 'older', 'estimate', 'calculate', 'rates', 'total', 'dose', 'deliver', 'total', 'dose', 'administer', 'limited', 'circumstances', 'people', 'might', 'receive', 'vaccination', 'outside', 'jurisdiction', 'state', 'territory', 'tribe', 'local', 'entity', 'rates', 'currently', 'account', 'vaccination', 'occur', 'jurisdiction', 'vaccination', 'administer', 'rates', '100,000', 'percent', 'population', 'metrics', 'measure', 'vaccination', 'calculate', 'among', 'entire', 'population', 'population', 'years', 'older', 'population', 'years', 'older', 'population', 'years', 'older', 'percent', 'population', 'represent', 'percent', 'people', 'receive', 'least', 'percent', 'people', 'fully', 'vaccinate', 'total', 'population', 'population', 'years', 'older', 'population', 'years', 'older', 'population', 'years', 'older', 'denominator', 'calculate', 'percent', 'total', 'population', 'percent', 'population', 'years', 'older', 'percent', 'population', 'years', 'older', 'percent', 'population', 'years', 'older', 'receive', 'least', 'fully', 'vaccinate', 'percent', 'total', 'population', 'derive', 'using', 'location', 'residence', 'cap', 'percent', 'population', 'coverage', 'metrics', 'metrics', 'could', 'greater', 'multiple', 'reason', 'include', 'census', 'denominator', 'include', 'individual', 'currently', 'reside', 'jurisdiction', 'resident', 'potential', 'reporting', 'error', 'texas', 'texas', 'provide', 'aggregate', 'count', 'therefore', 'receive', 'specific', 'information', 'individual', 'level', 'limit', 'ability', 'directly', 'calculate', 'certain', 'base', 'metrics', 'texas', 'resident', 'receive', 'vaccination', 'different', 'state', 'territory', 'attribute', 'texas', 'population', 'base', 'metrics', 'still', 'include', 'national', 'level', 'metrics', 'effective', 'calculate', 'texas', 'base', 'metrics', 'assume', 'people', 'receive', 'vaccination', 'texas', 'texas', 'resident', 'percentage', 'total', 'dose', 'administer', 'people', 'years', 'older', 'effective', 'march', 'percentage', 'people', 'receive', 'least', 'percentage', 'fully', 'vaccinate', 'people', 'years', 'older', 'estimate', 'least', 'metric', 'older', 'population', 'years', 'older', 'texas', 'first', 'obtain', 'percentage', 'population', 'receive', 'least', 'state', 'texas', 'covid-19', 'vaccination', 'texas', 'external', 'dashboard', 'percentage', 'update', 'every', 'thursday', 'multiply', 'percentage', 'count', 'total', 'population', 'receive', 'least', 'texas', 'repeat', 'calculation', 'estimate', 'fully', 'vaccinate', 'metrics', 'older', 'population', 'years', 'older', 'texas', 'values', 'include', 'topline', 'national', 'total', 'determine', 'number', 'people', 'receive', 'least', 'number', 'people', 'fully', 'vaccinate', 'base', 'information', 'state', 'territorial', 'tribal', 'local', 'public', 'health', 'agency', 'federal', 'entity', 'report', 'number', 'manufacturer', 'administration', 'recipient', 'submission', 'method', 'determine', 'numbers', 'need', 'apply', 'across', 'multiple', 'jurisdiction', 'state', 'territory', 'tribe', 'local', 'entity', 'different', 'reporting', 'practice', 'number', 'estimate', 'might', 'differ', 'report', 'jurisdiction', 'federal', 'entity', 'people', 'receive', 'dose', 'attribute', 'jurisdiction', 'person', 'reside', 'vaccine', 'manufacturer', 'report', 'recipient', 'consider', 'fully', 'vaccinate', 'dose']\n"
     ]
    }
   ],
   "source": [
    "text_data = []\n",
    "for line in articles[\"text\"]:\n",
    "    if type(line) == type('str'):\n",
    "        tokens = prepare_text_for_lda(line)\n",
    "        if random.random() > .99:\n",
    "            text_data.append(tokens)\n",
    "    else:\n",
    "        text_data.append([])"
   ]
  },
  {
   "cell_type": "code",
   "execution_count": 59,
   "id": "modular-massage",
   "metadata": {},
   "outputs": [
    {
     "data": {
      "text/plain": [
       "2939"
      ]
     },
     "execution_count": 59,
     "metadata": {},
     "output_type": "execute_result"
    }
   ],
   "source": [
    "len(articles[\"text\"])"
   ]
  },
  {
   "cell_type": "code",
   "execution_count": 60,
   "id": "cathedral-update",
   "metadata": {},
   "outputs": [
    {
     "data": {
      "text/plain": [
       "719"
      ]
     },
     "execution_count": 60,
     "metadata": {},
     "output_type": "execute_result"
    }
   ],
   "source": [
    "len(text_data)"
   ]
  },
  {
   "cell_type": "code",
   "execution_count": 37,
   "id": "abandoned-brook",
   "metadata": {
    "scrolled": true
   },
   "outputs": [
    {
     "name": "stdout",
     "output_type": "stream",
     "text": [
      "Collecting gensim\n",
      "  Downloading gensim-4.0.1-cp38-cp38-manylinux1_x86_64.whl (23.9 MB)\n",
      "\u001b[K     |████████████████████████████████| 23.9 MB 9.6 MB/s eta 0:00:01\n",
      "\u001b[?25hRequirement already satisfied, skipping upgrade: scipy>=0.18.1 in /opt/conda/lib/python3.8/site-packages (from gensim) (1.5.2)\n",
      "Collecting smart-open>=1.8.1\n",
      "  Downloading smart_open-5.1.0-py3-none-any.whl (57 kB)\n",
      "\u001b[K     |████████████████████████████████| 57 kB 12.0 MB/s eta 0:00:01\n",
      "\u001b[?25hRequirement already satisfied, skipping upgrade: numpy>=1.11.3 in /opt/conda/lib/python3.8/site-packages (from gensim) (1.18.5)\n",
      "Installing collected packages: smart-open, gensim\n",
      "Successfully installed gensim-4.0.1 smart-open-5.1.0\n"
     ]
    }
   ],
   "source": [
    "!pip install -U gensim"
   ]
  },
  {
   "cell_type": "code",
   "execution_count": 39,
   "id": "swiss-contrary",
   "metadata": {
    "scrolled": true
   },
   "outputs": [
    {
     "name": "stdout",
     "output_type": "stream",
     "text": [
      "Collecting python-Levenshtein\n",
      "  Downloading python-Levenshtein-0.12.2.tar.gz (50 kB)\n",
      "\u001b[K     |████████████████████████████████| 50 kB 9.3 MB/s  eta 0:00:01\n",
      "\u001b[?25hRequirement already satisfied: setuptools in /opt/conda/lib/python3.8/site-packages (from python-Levenshtein) (50.3.1.post20201107)\n",
      "Building wheels for collected packages: python-Levenshtein\n",
      "  Building wheel for python-Levenshtein (setup.py) ... \u001b[?25ldone\n",
      "\u001b[?25h  Created wheel for python-Levenshtein: filename=python_Levenshtein-0.12.2-cp38-cp38-linux_x86_64.whl size=184980 sha256=03ada6e289fcea037fd5a84005e3ef875114d2a6bc86335f32c8516ec64f710e\n",
      "  Stored in directory: /root/.cache/pip/wheels/d7/0c/76/042b46eb0df65c3ccd0338f791210c55ab79d209bcc269e2c7\n",
      "Successfully built python-Levenshtein\n",
      "Installing collected packages: python-Levenshtein\n",
      "Successfully installed python-Levenshtein-0.12.2\n"
     ]
    }
   ],
   "source": [
    "!pip install python-Levenshtein"
   ]
  },
  {
   "cell_type": "code",
   "execution_count": 61,
   "id": "convertible-cleaners",
   "metadata": {},
   "outputs": [],
   "source": [
    "from gensim import corpora\n",
    "dictionary = corpora.Dictionary(text_data)\n",
    "corpus = [dictionary.doc2bow(text) for text in text_data]\n",
    "import pickle\n",
    "pickle.dump(corpus, open('corpus.pkl', 'wb'))\n",
    "dictionary.save('dictionary.gensim')"
   ]
  },
  {
   "cell_type": "code",
   "execution_count": 70,
   "id": "secret-botswana",
   "metadata": {},
   "outputs": [
    {
     "name": "stdout",
     "output_type": "stream",
     "text": [
      "(7, '0.037*\"moderna\" + 0.025*\"medicamentos\" + 0.025*\"basados\"')\n",
      "(49, '0.049*\"emergency\" + 0.037*\"authorization\" + 0.024*\"covid-19\"')\n",
      "(11, '0.041*\"index\" + 0.041*\"household\" + 0.033*\"patient\"')\n",
      "(37, '0.000*\"vaccine\" + 0.000*\"covid-19\" + 0.000*\"medicine\"')\n",
      "(16, '0.031*\"oxygen\" + 0.028*\"hospitalize\" + 0.026*\"patient\"')\n",
      "(25, '0.019*\"challenge\" + 0.019*\"initiative\" + 0.019*\"others\"')\n",
      "(33, '0.016*\"使用前，根据制造商说明存储所有检测部件\" + 0.016*\"准备采集样本\" + 0.016*\"如果您需要进行covid-19检测而无法获得医疗服务提供者检测，您可以考虑采用可在家或任何其他地方进行的\"')\n",
      "(1, '0.043*\"please\" + 0.035*\"validate\" + 0.035*\"content\"')\n",
      "(12, '0.000*\"covid-19\" + 0.000*\"family\" + 0.000*\"vaccine\"')\n",
      "(8, '0.000*\"population\" + 0.000*\"older\" + 0.000*\"receive\"')\n",
      "(40, '0.000*\"health\" + 0.000*\"covid-19\" + 0.000*\"symptom\"')\n",
      "(47, '0.023*\"model\" + 0.017*\"cohort\" + 0.014*\"include\"')\n",
      "(29, '0.029*\"symptom\" + 0.022*\"health\" + 0.021*\"covid\"')\n",
      "(0, '0.056*\"population\" + 0.040*\"older\" + 0.036*\"years\"')\n",
      "(13, '0.032*\"travel\" + 0.032*\"gathering\" + 0.032*\"family\"')\n",
      "(36, '0.000*\"patient\" + 0.000*\"health\" + 0.000*\"covid-19\"')\n",
      "(41, '0.000*\"model\" + 0.000*\"cohort\" + 0.000*\"predictor\"')\n",
      "(46, '0.000*\"health\" + 0.000*\"covid-19\" + 0.000*\"country\"')\n",
      "(17, '0.000*\"waiver\" + 0.000*\"covid-19\" + 0.000*\"health\"')\n",
      "(38, '0.000*\"vaccine\" + 0.000*\"access\" + 0.000*\"trial\"')\n"
     ]
    }
   ],
   "source": [
    "import gensim\n",
    "NUM_TOPICS = 50\n",
    "ldamodel = gensim.models.ldamodel.LdaModel(corpus, num_topics = NUM_TOPICS, id2word=dictionary, passes=50)\n",
    "ldamodel.save('model5.gensim')\n",
    "topics = ldamodel.print_topics(num_words=3)\n",
    "for topic in topics:\n",
    "    print(topic)"
   ]
  },
  {
   "cell_type": "code",
   "execution_count": 80,
   "id": "concerned-payment",
   "metadata": {},
   "outputs": [
    {
     "name": "stderr",
     "output_type": "stream",
     "text": [
      "/opt/conda/lib/python3.8/site-packages/ipykernel/ipkernel.py:283: DeprecationWarning: `should_run_async` will not call `transform_cell` automatically in the future. Please pass the result to `transformed_cell` argument and any exception that happen during thetransform in `preprocessing_exc_tuple` in IPython 7.17 and above.\n",
      "  and should_run_async(code)\n"
     ]
    },
    {
     "name": "stdout",
     "output_type": "stream",
     "text": [
      "(0, '0.042*\"waiver\" + 0.026*\"request\" + 0.023*\"quarantine\" + 0.023*\"individual\" + 0.022*\"covid-19\"')\n",
      "(1, '0.035*\"moderna\" + 0.029*\"website\" + 0.012*\"policy\" + 0.012*\"external\" + 0.012*\"privacy\"')\n",
      "(2, '0.036*\"covid-19\" + 0.026*\"health\" + 0.014*\"pandemic\" + 0.014*\"global\" + 0.012*\"nurse\"')\n",
      "(3, '0.021*\"health\" + 0.020*\"water\" + 0.016*\"global\" + 0.015*\"people\" + 0.015*\"sustainable\"')\n",
      "(4, '0.025*\"oxygen\" + 0.024*\"hospitalize\" + 0.020*\"patient\" + 0.020*\"scale\" + 0.017*\"ordinal\"')\n",
      "(5, '0.024*\"symptom\" + 0.017*\"health\" + 0.017*\"hopkins\" + 0.017*\"johns\" + 0.014*\"covid-19\"')\n",
      "(6, '0.044*\"population\" + 0.033*\"older\" + 0.032*\"years\" + 0.029*\"receive\" + 0.026*\"total\"')\n",
      "(7, '0.001*\"model\" + 0.001*\"admission\" + 0.001*\"cohort\" + 0.001*\"study\" + 0.001*\"mortality\"')\n",
      "(8, '0.030*\"health\" + 0.024*\"public\" + 0.024*\"electronic\" + 0.018*\"report\" + 0.018*\"facility\"')\n",
      "(9, '0.053*\"johnson\" + 0.051*\"vaccine\" + 0.029*\"covid-19\" + 0.013*\"country\" + 0.011*\"recommendation\"')\n",
      "(10, '0.034*\"index\" + 0.032*\"household\" + 0.026*\"patient\" + 0.019*\"contact\" + 0.018*\"vaccination\"')\n",
      "(11, '0.066*\"health\" + 0.026*\"country\" + 0.018*\"services\" + 0.015*\"covid-19\" + 0.015*\"essential\"')\n",
      "(12, '0.001*\"health\" + 0.001*\"covid-19\" + 0.000*\"patient\" + 0.000*\"vaccine\" + 0.000*\"model\"')\n",
      "(13, '0.001*\"health\" + 0.001*\"covid-19\" + 0.001*\"people\" + 0.001*\"vaccine\" + 0.000*\"include\"')\n",
      "(14, '0.016*\"model\" + 0.013*\"include\" + 0.012*\"cohort\" + 0.011*\"patient\" + 0.011*\"clinical\"')\n",
      "(15, '0.017*\"please\" + 0.009*\"experience\" + 0.009*\"could\" + 0.009*\"confirm\" + 0.009*\"validate\"')\n",
      "(16, '0.051*\"vaccine\" + 0.032*\"immune\" + 0.028*\"response\" + 0.020*\"infection\" + 0.014*\"measure\"')\n",
      "(17, '0.032*\"community\" + 0.030*\"vaccine\" + 0.025*\"black\" + 0.017*\"covid-19\" + 0.014*\"health\"')\n",
      "(18, '0.001*\"vaccine\" + 0.001*\"covid-19\" + 0.001*\"study\" + 0.001*\"health\" + 0.001*\"trial\"')\n",
      "(19, '0.032*\"vaccine\" + 0.016*\"covid-19\" + 0.016*\"safety\" + 0.011*\"health\" + 0.011*\"medicine\"')\n"
     ]
    }
   ],
   "source": [
    "ldamodel = gensim.models.ldamodel.LdaModel(corpus, num_topics = 20, id2word=dictionary, passes=15)\n",
    "topics = ldamodel.print_topics(num_words=5)\n",
    "for topic in topics:\n",
    "    print(topic)"
   ]
  },
  {
   "cell_type": "code",
   "execution_count": null,
   "id": "closing-budget",
   "metadata": {},
   "outputs": [],
   "source": []
  },
  {
   "cell_type": "code",
   "execution_count": 83,
   "id": "integral-smile",
   "metadata": {},
   "outputs": [
    {
     "name": "stderr",
     "output_type": "stream",
     "text": [
      "/opt/conda/lib/python3.8/site-packages/ipykernel/ipkernel.py:283: DeprecationWarning: `should_run_async` will not call `transform_cell` automatically in the future. Please pass the result to `transformed_cell` argument and any exception that happen during thetransform in `preprocessing_exc_tuple` in IPython 7.17 and above.\n",
      "  and should_run_async(code)\n"
     ]
    },
    {
     "data": {
      "text/plain": [
       "'https://www.nejm.org/doi/10.1056/NEJMc2104974'"
      ]
     },
     "execution_count": 83,
     "metadata": {},
     "output_type": "execute_result"
    }
   ],
   "source": [
    "articles[\"Resource URL\"][2]"
   ]
  },
  {
   "cell_type": "code",
   "execution_count": 84,
   "id": "flying-seller",
   "metadata": {},
   "outputs": [
    {
     "name": "stdout",
     "output_type": "stream",
     "text": [
      "[(0, 0.044726446), (2, 0.060503278), (3, 0.029799256), (5, 0.027764), (6, 0.11787632), (9, 0.18739808), (10, 0.30234405), (11, 0.014066311), (14, 0.098716766), (16, 0.08384144), (19, 0.031252276)]\n"
     ]
    },
    {
     "name": "stderr",
     "output_type": "stream",
     "text": [
      "/opt/conda/lib/python3.8/site-packages/ipykernel/ipkernel.py:283: DeprecationWarning: `should_run_async` will not call `transform_cell` automatically in the future. Please pass the result to `transformed_cell` argument and any exception that happen during thetransform in `preprocessing_exc_tuple` in IPython 7.17 and above.\n",
      "  and should_run_async(code)\n"
     ]
    }
   ],
   "source": [
    "new_doc = prepare_text_for_lda(articles[\"text\"][2])\n",
    "new_doc_bow = dictionary.doc2bow(new_doc)\n",
    "print(ldamodel.get_document_topics(new_doc_bow))"
   ]
  },
  {
   "cell_type": "code",
   "execution_count": null,
   "id": "assigned-preference",
   "metadata": {},
   "outputs": [],
   "source": []
  }
 ],
 "metadata": {
  "kernelspec": {
   "display_name": "Python 3",
   "language": "python",
   "name": "python3"
  },
  "language_info": {
   "codemirror_mode": {
    "name": "ipython",
    "version": 3
   },
   "file_extension": ".py",
   "mimetype": "text/x-python",
   "name": "python",
   "nbconvert_exporter": "python",
   "pygments_lexer": "ipython3",
   "version": "3.8.5"
  }
 },
 "nbformat": 4,
 "nbformat_minor": 5
}
