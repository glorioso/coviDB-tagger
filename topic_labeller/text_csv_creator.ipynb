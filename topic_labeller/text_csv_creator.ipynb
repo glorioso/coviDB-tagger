{
 "cells": [
  {
   "cell_type": "code",
   "execution_count": 1,
   "id": "impressed-occasion",
   "metadata": {},
   "outputs": [],
   "source": [
    "# autoreload libaries\n",
    "%load_ext autoreload\n",
    "%autoreload 2"
   ]
  },
  {
   "cell_type": "code",
   "execution_count": 2,
   "id": "robust-kuwait",
   "metadata": {},
   "outputs": [
    {
     "name": "stderr",
     "output_type": "stream",
     "text": [
      "[nltk_data] Downloading package punkt to /root/nltk_data...\n",
      "[nltk_data]   Package punkt is already up-to-date!\n"
     ]
    }
   ],
   "source": [
    "import pandas\n",
    "import numpy\n",
    "import utils\n",
    "import tqdm"
   ]
  },
  {
   "cell_type": "code",
   "execution_count": 3,
   "id": "cardiac-given",
   "metadata": {},
   "outputs": [
    {
     "name": "stderr",
     "output_type": "stream",
     "text": [
      "[nltk_data] Downloading package punkt to /root/nltk_data...\n",
      "[nltk_data]   Package punkt is already up-to-date!\n"
     ]
    }
   ],
   "source": [
    "articles = pandas.read_csv(\"articles.csv\")"
   ]
  },
  {
   "cell_type": "code",
   "execution_count": 5,
   "id": "continued-cooperation",
   "metadata": {},
   "outputs": [
    {
     "name": "stderr",
     "output_type": "stream",
     "text": [
      "100%|██████████| 2939/2939 [06:56<00:00,  7.06it/s]\n"
     ]
    }
   ],
   "source": [
    "article_texts = utils.get_text_parallel(articles[\"Resource URL\"] )"
   ]
  },
  {
   "cell_type": "code",
   "execution_count": 35,
   "id": "marine-chart",
   "metadata": {},
   "outputs": [],
   "source": [
    "for i in range(len(article_texts)):\n",
    "    if article_texts[i] is None:\n",
    "        article_texts[i] = \"\"\n",
    "    else:\n",
    "        article_texts[i] = article_texts[i].replace(\"\\n\", \" \")"
   ]
  },
  {
   "cell_type": "code",
   "execution_count": 36,
   "id": "fitting-inventory",
   "metadata": {},
   "outputs": [],
   "source": [
    "articles_with_text = articles.assign(text= article_texts)"
   ]
  },
  {
   "cell_type": "code",
   "execution_count": 37,
   "id": "fitted-guard",
   "metadata": {},
   "outputs": [],
   "source": [
    "articles_with_text.to_csv(\"articles_text.csv\")"
   ]
  },
  {
   "cell_type": "code",
   "execution_count": 38,
   "id": "significant-ceramic",
   "metadata": {},
   "outputs": [
    {
     "data": {
      "text/plain": [
       "2939"
      ]
     },
     "execution_count": 38,
     "metadata": {},
     "output_type": "execute_result"
    }
   ],
   "source": [
    "len(articles_with_text)"
   ]
  },
  {
   "cell_type": "code",
   "execution_count": null,
   "id": "danish-virus",
   "metadata": {},
   "outputs": [],
   "source": []
  }
 ],
 "metadata": {
  "kernelspec": {
   "display_name": "Python 3",
   "language": "python",
   "name": "python3"
  },
  "language_info": {
   "codemirror_mode": {
    "name": "ipython",
    "version": 3
   },
   "file_extension": ".py",
   "mimetype": "text/x-python",
   "name": "python",
   "nbconvert_exporter": "python",
   "pygments_lexer": "ipython3",
   "version": "3.8.5"
  }
 },
 "nbformat": 4,
 "nbformat_minor": 5
}
